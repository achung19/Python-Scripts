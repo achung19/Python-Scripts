{
 "cells": [
  {
   "cell_type": "markdown",
   "metadata": {},
   "source": [
    "# Finalized Rate Plot (Claustrum 6)\n"
   ]
  },
  {
   "cell_type": "code",
   "execution_count": 7,
   "metadata": {},
   "outputs": [],
   "source": [
    "import pickle\n",
    "import numpy as np\n",
    "import matplotlib.pyplot as plt\n",
    "import seaborn as sns\n",
    "import pandas as pd\n",
    "from matplotlib.patches import Rectangle\n",
    "#New DataFrame\n",
    "from pathlib import Path\n",
    "data_folder = Path('../../claustrum-data')\n",
    "   \n",
    "# list(master_log)\n",
    "#master_log_lite=master_log[\n",
    "#['mouse_name',\n",
    "# 'date',\n",
    "# 'block_type',\n",
    "# 'trial_type',\n",
    "# 'touch_stimulus',\n",
    "# 'vis_stimulus',\n",
    "# 'response',\n",
    "# 'trial_num',\n",
    "# 'stim_onset',\n",
    "# 'stim_offset',\n",
    "# 'licks_right',\n",
    "# 'licks_left',\n",
    "# 'spike_times',\n",
    "# 'cluster_name',\n",
    "# '-0.5to2.0sec_25msecbins_StimAligned',\n",
    "# 'Category',\n",
    "# '-1to3sec_25msecbins_StimAligned',\n",
    "#  'Stim/Block/Response',\n",
    "# 'Reward',\n",
    "# 'rewarded_licks',\n",
    "# 'non_rewarded_licks',\n",
    "# 'unit_name',\n",
    "# 'LeftFirstLick',\n",
    "# 'RightFirstLick',\n",
    "# 'FirstLick',\n",
    "# '-1to3sec_25msecbins_LickAligned',\n",
    "#  'LickALigned_spike_times']]"
   ]
  },
  {
   "cell_type": "code",
   "execution_count": 8,
   "metadata": {},
   "outputs": [],
   "source": [
    "file_to_open = data_folder / \"Master_log_OptoSameTT_LITEpart1a.pkl\"\n",
    "with open(file_to_open, 'rb') as f:\n",
    "   master1a = pickle.load(f, encoding='latin1')\n",
    "\n",
    "file_to_open = data_folder / \"Master_log_OptoSameTT_LITEpart1b.pkl\"\n",
    "with open(file_to_open, 'rb') as f:\n",
    "   master1b = pickle.load(f, encoding='latin1')\n",
    "\n",
    "file_to_open = data_folder / \"Master_log_OptoSameTT_LITEpart1c.pkl\"\n",
    "with open(file_to_open, 'rb') as f:\n",
    "   master1c = pickle.load(f, encoding='latin1')\n",
    "\n",
    "file_to_open = data_folder / \"Master_log_OptoSameTT_LITEpart1d.pkl\"\n",
    "with open(file_to_open, 'rb') as f:\n",
    "   master1d = pickle.load(f, encoding='latin1')"
   ]
  },
  {
   "cell_type": "code",
   "execution_count": 9,
   "metadata": {},
   "outputs": [],
   "source": [
    "file_to_open = data_folder / \"Master_log_OptoSameTT_LITEpart2a.pkl\"\n",
    "with open(file_to_open, 'rb') as f:\n",
    "   master2a = pickle.load(f, encoding='latin1')\n",
    "\n",
    "file_to_open = data_folder / \"Master_log_OptoSameTT_LITEpart2b.pkl\"\n",
    "with open(file_to_open, 'rb') as f:\n",
    "   master2b = pickle.load(f, encoding='latin1')\n",
    "\n",
    "file_to_open = data_folder / \"Master_log_OptoSameTT_LITEpart2c.pkl\"\n",
    "with open(file_to_open, 'rb') as f:\n",
    "   master2c = pickle.load(f, encoding='latin1')"
   ]
  },
  {
   "cell_type": "code",
   "execution_count": null,
   "metadata": {},
   "outputs": [],
   "source": []
  },
  {
   "cell_type": "code",
   "execution_count": 10,
   "metadata": {},
   "outputs": [
    {
     "data": {
      "text/plain": [
       "['-1to3sec_25msecbins_LickAligned',\n",
       " '-1to3sec_25msecbins_StimAligned',\n",
       " 'Category',\n",
       " 'Cluster_SigCorr_1secPostStim_OptoTag',\n",
       " 'Cluster_SigCorr_1secPostStim_OptoTagANDSameTT',\n",
       " 'Correct',\n",
       " 'FirstLick',\n",
       " 'LeftFirstLick',\n",
       " 'LickALigned_spike_times',\n",
       " 'LickSideCategory',\n",
       " 'Modality Preference Index',\n",
       " 'NR_Left_licks_aligned_spikes',\n",
       " 'NR_Right_licks_aligned_spikes',\n",
       " 'NR_licks_aligned_spikes',\n",
       " 'Next_LickSideCategory',\n",
       " 'Next_Reward',\n",
       " 'Next_Stim/Block/Response',\n",
       " 'Previous2_Correct',\n",
       " 'Previous2_Reward',\n",
       " 'Previous3_Correct',\n",
       " 'Previous3_Reward',\n",
       " 'Previous4_Correct',\n",
       " 'Previous4_Reward',\n",
       " 'Previous5_Correct',\n",
       " 'Previous5_Reward',\n",
       " 'Previous6_Correct',\n",
       " 'Previous6_Reward',\n",
       " 'Previous_Correct',\n",
       " 'Previous_LickSideCategory',\n",
       " 'Previous_Reward',\n",
       " 'Previous_Stim/Block/Response',\n",
       " 'Responsiveness_to_VisHit_0.05_to_0.45',\n",
       " 'Responsiveness_to_SomHit_0.05_to_0.45',\n",
       " 'Reward',\n",
       " 'Rewarded_Left_licks_aligned_spikes',\n",
       " 'Rewarded_Right_licks_aligned_spikes',\n",
       " 'Rewarded_licks_aligned_spikes',\n",
       " 'RightFirstLick',\n",
       " 'Stim/Block/Response',\n",
       " 'Trial_Start_Stop',\n",
       " 'Zscored_-1to3sec_25msecbins_StimAligned',\n",
       " 'block_type',\n",
       " 'cluster_name',\n",
       " 'date',\n",
       " 'event_detection_cma',\n",
       " 'licks_left',\n",
       " 'licks_left_trialonly',\n",
       " 'licks_right',\n",
       " 'licks_right_trialonly',\n",
       " 'mouse_name',\n",
       " 'non_rewarded_Left_licks',\n",
       " 'non_rewarded_Right_licks',\n",
       " 'non_rewarded_licks',\n",
       " 'response',\n",
       " 'rewarded_Left_licks',\n",
       " 'rewarded_Right_licks',\n",
       " 'rewarded_licks',\n",
       " 'shuffled_spike_times',\n",
       " 'spike_times',\n",
       " 'stim_offset',\n",
       " 'stim_onset',\n",
       " 'touch_stimulus',\n",
       " 'trial_num',\n",
       " 'trial_type',\n",
       " 'unit_95CI_25msecAUC_-1to3sec_SomHit_vs_SomMissVisCR',\n",
       " 'unit_95CI_25msecAUC_-1to3sec_VisHit_vs_VisMissSomCR',\n",
       " 'unit_Onset_25msecAUC_-1to3sec_SomHit_vs_SomMissVisCR',\n",
       " 'unit_Onset_25msecAUC_-1to3sec_VisHit_vs_VisMissSomCR',\n",
       " 'unit_Sig_25msecAUC_-1to3sec_SomHit_vs_SomMissVisCR',\n",
       " 'unit_Sig_25msecAUC_-1to3sec_VisHit_vs_VisMissSomCR',\n",
       " 'unit_mean_25msecAUC_-1to3sec_SomHit_vs_SomMissVisCR',\n",
       " 'unit_mean_25msecAUC_-1to3sec_VisHit_vs_VisMissSomCR',\n",
       " 'unit_name',\n",
       " 'unrewarded_licks',\n",
       " 'vis_stimulus',\n",
       " 'Cluster_PLUSvsMINUS']"
      ]
     },
     "execution_count": 10,
     "metadata": {},
     "output_type": "execute_result"
    }
   ],
   "source": [
    "file_to_open = data_folder / \"Master_log_OptoSameTT_LITEpart3a.pkl\"\n",
    "with open(file_to_open, 'rb') as f:\n",
    "   master3a = pickle.load(f, encoding='latin1')\n",
    "\n",
    "file_to_open = data_folder / \"Master_log_OptoSameTT_LITEpart3b.pkl\"\n",
    "with open(file_to_open, 'rb') as f:\n",
    "   master3b = pickle.load(f, encoding='latin1')\n",
    "\n",
    "file_to_open = data_folder / \"Master_log_OptoSameTT_LITEpart3c.pkl\"\n",
    "with open(file_to_open, 'rb') as f:\n",
    "   master3c = pickle.load(f, encoding='latin1')\n",
    "\n",
    "file_to_open = data_folder / \"Master_log_OptoSameTT_LITEpart3d.pkl\"\n",
    "with open(file_to_open, 'rb') as f:\n",
    "   master3d = pickle.load(f, encoding='latin1')\n",
    "\n",
    "master_log=pd.concat([master1a,master1b,master1c,master1d,master2a,master2b,master2c, master3a,master3b,master3c,master3d], axis=0)\n",
    "list(master_log)\n",
    "#master_log_lite=master_log[\n",
    "#['mouse_name',\n",
    "# 'date',\n",
    "# 'block_type',\n",
    "# 'trial_type',\n",
    "# 'touch_stimulus',\n",
    "# 'vis_stimulus',\n",
    "# 'response',\n",
    "# 'trial_num',\n",
    "# 'stim_onset',\n",
    "# 'stim_offset',\n",
    "# 'licks_right',\n",
    "# 'licks_left',\n",
    "# 'spike_times',\n",
    "# 'cluster_name',\n",
    "# '-0.5to2.0sec_25msecbins_StimAligned',\n",
    "# 'Category',\n",
    "# '-1to3sec_25msecbins_StimAligned',\n",
    "#  'Stim/Block/Response',\n",
    "# 'Reward',\n",
    "# 'rewarded_licks',\n",
    "# 'non_rewarded_licks',\n",
    "# 'unit_name',\n",
    "# 'LeftFirstLick',\n",
    "# 'RightFirstLick',\n",
    "# 'FirstLick',\n",
    "# '-1to3sec_25msecbins_LickAligned',\n",
    "#  'LickALigned_spike_times']]"
   ]
  },
  {
   "cell_type": "markdown",
   "metadata": {},
   "source": [
    "## Notes\n",
    "Category can be OptoTag, SameTT consider separate groups\n",
    "compare between groups\n",
    "\n",
    "differences in firing rate - compare firing rates in one second preceding stimulus, one second following stimulus\n",
    "\n",
    "optotagged ones seem to be responding stronger -> quantify\n",
    "     "
   ]
  },
  {
   "cell_type": "markdown",
   "metadata": {},
   "source": [
    "## To Do\n",
    "Compare mean firing rate before stimulus - is it different between vis/som blocks?, different before hit/miss\n",
    "\n",
    "1 neuron at a time\n",
    "\n",
    "multiple trials, take mean response for those trials grouped in correct blocks - compare those\n",
    "\n",
    "histogram below\n"
   ]
  },
  {
   "cell_type": "code",
   "execution_count": 11,
   "metadata": {},
   "outputs": [],
   "source": [
    "unit_log = master_log[master_log['unit_name'] == 'Claustrum25_20190816_TT7clst1']"
   ]
  },
  {
   "cell_type": "code",
   "execution_count": 49,
   "metadata": {},
   "outputs": [
    {
     "data": {
      "text/plain": [
       "(-2, 2)"
      ]
     },
     "execution_count": 49,
     "metadata": {},
     "output_type": "execute_result"
    },
    {
     "data": {
      "image/png": "[encoded data removed]",
      "text/plain": [
       "<Figure size 432x288 with 1 Axes>"
      ]
     },
     "metadata": {
      "needs_background": "light"
     },
     "output_type": "display_data"
    }
   ],
   "source": [
    "i = 0\n",
    "for trial in unit_log['spike_times']:   \n",
    "    pre_spikes = trial[:,0] < unit_log['stim_onset'].iloc[i]\n",
    "    post_spikes = trial[:,0] >= unit_log['stim_onset'].iloc[i]\n",
    "  \n",
    "    plt.scatter(trial[pre_spikes[0,:]]-unit_log['stim_onset'].iloc[i], np.ones(trial[pre_spikes[0,:],0].shape)*i, color = 'blue', marker='.')\n",
    "    plt.scatter(trial[post_spikes[0,:]]-unit_log['stim_onset'].iloc[i], np.ones(trial[post_spikes[0,:],0].shape)*i, color = 'red', marker='.')\n",
    "    \n",
    "    i += 1\n",
    "    \n",
    "plt.xlabel('Seconds after stimulus')\n",
    "plt.ylabel('Trial')\n",
    "plt.title('Difference in Firing Rates Before and After Stimulus')\n",
    "plt.xlim(-2,2)"
   ]
  },
  {
   "cell_type": "code",
   "execution_count": 170,
   "metadata": {},
   "outputs": [
    {
     "data": {
      "text/plain": [
       "<matplotlib.collections.PathCollection at 0x2746b012a20>"
      ]
     },
     "execution_count": 170,
     "metadata": {},
     "output_type": "execute_result"
    },
    {
     "data": {
      "image/png": "[encoded data removed]",
      "text/plain": [
       "<Figure size 432x288 with 1 Axes>"
      ]
     },
     "metadata": {
      "needs_background": "light"
     },
     "output_type": "display_data"
    }
   ],
   "source": [
    "mice = np.array(['Claustrum18', 'Claustrum23', 'Claustrum25'])\n",
    "\n",
    "num_vis_prespikes = 0\n",
    "num_vis_trials = 0\n",
    "num_som_prespikes = 0\n",
    "num_som_trials = 0\n",
    "vis_unit_mean = []\n",
    "som_unit_mean = []\n",
    "\n",
    "for mouse in mice:\n",
    "    mouse_log = master_log.loc[np.equal(master_log['mouse_name'], mouse)]\n",
    "    for day in np.unique(mouse_log['date']):\n",
    "        day_log = mouse_log.loc[np.equal(mouse_log['date'], day)]\n",
    "        for unit in np.unique(day_log['cluster_name']):\n",
    "            unit_log = day_log.loc[np.equal(day_log['cluster_name'], unit)]\n",
    "\n",
    "            for trial in unit_log[unit_log['block_type'] == 'Visual']['spike_times']:\n",
    "                pre_spikes = trial[:,0] < unit_log['stim_onset'].iloc[0]\n",
    "                pre_spikes = trial[pre_spikes[0,:]] > unit_log['stim_onset'].iloc[0] - 1\n",
    "                num_vis_prespikes += np.count_nonzero(pre_spikes)\n",
    "                num_vis_trials += 1\n",
    "            vis_unit_mean.append(num_vis_prespikes/num_vis_trials)\n",
    "            num_vis_prespikes = 0\n",
    "            num_vis_trials = 0\n",
    "            for trial in unit_log[unit_log['block_type'] == 'Whisker']['spike_times']:\n",
    "                pre_spikes = trial[:,0] < unit_log['stim_onset'].iloc[0]\n",
    "                pre_spikes = trial[pre_spikes[0,:]] > unit_log['stim_onset'].iloc[0] - 1\n",
    "                num_som_prespikes += np.count_nonzero(pre_spikes)\n",
    "                num_som_trials += 1\n",
    "            som_unit_mean.append(num_som_prespikes/num_som_trials)\n",
    "            num_som_prespikes = 0\n",
    "            num_som_trials = 0\n",
    "                                 \n",
    "plt.scatter(vis_unit_mean, som_unit_mean)"
   ]
  },
  {
   "cell_type": "code",
   "execution_count": 83,
   "metadata": {},
   "outputs": [
    {
     "name": "stdout",
     "output_type": "stream",
     "text": [
      "13        [TT5clst1]\n",
      "14        [TT5clst2]\n",
      "15        [TT5clst3]\n",
      "36        [TT5clst1]\n",
      "37        [TT5clst2]\n",
      "38        [TT5clst3]\n",
      "59        [TT5clst1]\n",
      "60        [TT5clst2]\n",
      "61        [TT5clst3]\n",
      "82        [TT5clst1]\n",
      "83        [TT5clst2]\n",
      "84        [TT5clst3]\n",
      "105       [TT5clst1]\n",
      "106       [TT5clst2]\n",
      "107       [TT5clst3]\n",
      "128       [TT5clst1]\n",
      "129       [TT5clst2]\n",
      "130       [TT5clst3]\n",
      "151       [TT5clst1]\n",
      "152       [TT5clst2]\n",
      "153       [TT5clst3]\n",
      "174       [TT5clst1]\n",
      "175       [TT5clst2]\n",
      "176       [TT5clst3]\n",
      "197       [TT5clst1]\n",
      "198       [TT5clst2]\n",
      "199       [TT5clst3]\n",
      "220       [TT5clst1]\n",
      "221       [TT5clst2]\n",
      "222       [TT5clst3]\n",
      "             ...    \n",
      "397549    [TT7clst3]\n",
      "397550    [TT7clst4]\n",
      "397554    [TT2clst1]\n",
      "397557    [TT6clst1]\n",
      "397558    [TT6clst2]\n",
      "397559    [TT7clst1]\n",
      "397560    [TT7clst2]\n",
      "397561    [TT7clst3]\n",
      "397562    [TT7clst4]\n",
      "397566    [TT2clst1]\n",
      "397569    [TT6clst1]\n",
      "397570    [TT6clst2]\n",
      "397571    [TT7clst1]\n",
      "397572    [TT7clst2]\n",
      "397573    [TT7clst3]\n",
      "397574    [TT7clst4]\n",
      "397578    [TT2clst1]\n",
      "397581    [TT6clst1]\n",
      "397582    [TT6clst2]\n",
      "397583    [TT7clst1]\n",
      "397584    [TT7clst2]\n",
      "397585    [TT7clst3]\n",
      "397586    [TT7clst4]\n",
      "397590    [TT2clst1]\n",
      "397593    [TT6clst1]\n",
      "397594    [TT6clst2]\n",
      "397595    [TT7clst1]\n",
      "397596    [TT7clst2]\n",
      "397597    [TT7clst3]\n",
      "397598    [TT7clst4]\n",
      "Name: cluster_name, Length: 74694, dtype: object\n"
     ]
    }
   ],
   "source": [
    "print(master_log['cluster_name'])"
   ]
  },
  {
   "cell_type": "code",
   "execution_count": null,
   "metadata": {},
   "outputs": [],
   "source": []
  },
  {
   "cell_type": "code",
   "execution_count": null,
   "metadata": {},
   "outputs": [],
   "source": []
  },
  {
   "cell_type": "code",
   "execution_count": null,
   "metadata": {},
   "outputs": [],
   "source": []
  }
 ],
 "metadata": {
  "kernelspec": {
   "display_name": "Python 3",
   "language": "python",
   "name": "python3"
  },
  "language_info": {
   "codemirror_mode": {
    "name": "ipython",
    "version": 3
   },
   "file_extension": ".py",
   "mimetype": "text/x-python",
   "name": "python",
   "nbconvert_exporter": "python",
   "pygments_lexer": "ipython3",
   "version": "3.7.3"
  }
 },
 "nbformat": 4,
 "nbformat_minor": 2
}

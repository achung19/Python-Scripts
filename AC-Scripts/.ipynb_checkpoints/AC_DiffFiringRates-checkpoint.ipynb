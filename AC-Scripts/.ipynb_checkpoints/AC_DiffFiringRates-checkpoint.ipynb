{
 "cells": [
  {
   "cell_type": "code",
   "execution_count": 7,
   "metadata": {},
   "outputs": [],
   "source": [
    "# Finalized Rate Plot (Claustrum 6)\n"
   ]
  },
  {
   "cell_type": "code",
   "execution_count": 8,
   "metadata": {},
   "outputs": [],
   "source": [
    "import pickle\n",
    "import numpy as np\n",
    "import matplotlib.pyplot as plt\n",
    "import seaborn as sns\n",
    "import pandas as pd\n",
    "from matplotlib.patches import Rectangle\n",
    "#New DataFrame\n",
    "from pathlib import Path\n",
    "data_folder = Path('../../claustrum-data')\n",
    "   \n",
    "# list(master_log)\n",
    "#master_log_lite=master_log[\n",
    "#['mouse_name',\n",
    "# 'date',\n",
    "# 'block_type',\n",
    "# 'trial_type',\n",
    "# 'touch_stimulus',\n",
    "# 'vis_stimulus',\n",
    "# 'response',\n",
    "# 'trial_num',\n",
    "# 'stim_onset',\n",
    "# 'stim_offset',\n",
    "# 'licks_right',\n",
    "# 'licks_left',\n",
    "# 'spike_times',\n",
    "# 'cluster_name',\n",
    "# '-0.5to2.0sec_25msecbins_StimAligned',\n",
    "# 'Category',\n",
    "# '-1to3sec_25msecbins_StimAligned',\n",
    "#  'Stim/Block/Response',\n",
    "# 'Reward',\n",
    "# 'rewarded_licks',\n",
    "# 'non_rewarded_licks',\n",
    "# 'unit_name',\n",
    "# 'LeftFirstLick',\n",
    "# 'RightFirstLick',\n",
    "# 'FirstLick',\n",
    "# '-1to3sec_25msecbins_LickAligned',\n",
    "#  'LickALigned_spike_times']]"
   ]
  },
  {
   "cell_type": "code",
   "execution_count": 9,
   "metadata": {},
   "outputs": [],
   "source": [
    "file_to_open = data_folder / \"Master_log_OptoSameTT_LITEpart1a.pkl\"\n",
    "with open(file_to_open, 'rb') as f:\n",
    "   master1a = pickle.load(f, encoding='latin1')\n",
    "\n",
    "file_to_open = data_folder / \"Master_log_OptoSameTT_LITEpart1b.pkl\"\n",
    "with open(file_to_open, 'rb') as f:\n",
    "   master1b = pickle.load(f, encoding='latin1')\n",
    "\n",
    "file_to_open = data_folder / \"Master_log_OptoSameTT_LITEpart1c.pkl\"\n",
    "with open(file_to_open, 'rb') as f:\n",
    "   master1c = pickle.load(f, encoding='latin1')\n",
    "\n",
    "file_to_open = data_folder / \"Master_log_OptoSameTT_LITEpart1d.pkl\"\n",
    "with open(file_to_open, 'rb') as f:\n",
    "   master1d = pickle.load(f, encoding='latin1')"
   ]
  },
  {
   "cell_type": "code",
   "execution_count": 10,
   "metadata": {},
   "outputs": [],
   "source": [
    "file_to_open = data_folder / \"Master_log_OptoSameTT_LITEpart2a.pkl\"\n",
    "with open(file_to_open, 'rb') as f:\n",
    "   master2a = pickle.load(f, encoding='latin1')\n",
    "\n",
    "file_to_open = data_folder / \"Master_log_OptoSameTT_LITEpart2b.pkl\"\n",
    "with open(file_to_open, 'rb') as f:\n",
    "   master2b = pickle.load(f, encoding='latin1')\n",
    "\n",
    "file_to_open = data_folder / \"Master_log_OptoSameTT_LITEpart2c.pkl\"\n",
    "with open(file_to_open, 'rb') as f:\n",
    "   master2c = pickle.load(f, encoding='latin1')"
   ]
  },
  {
   "cell_type": "code",
   "execution_count": 11,
   "metadata": {},
   "outputs": [
    {
     "data": {
      "text/plain": [
       "['-1to3sec_25msecbins_LickAligned',\n",
       " '-1to3sec_25msecbins_StimAligned',\n",
       " 'Category',\n",
       " 'Cluster_SigCorr_1secPostStim_OptoTag',\n",
       " 'Cluster_SigCorr_1secPostStim_OptoTagANDSameTT',\n",
       " 'Correct',\n",
       " 'FirstLick',\n",
       " 'LeftFirstLick',\n",
       " 'LickALigned_spike_times',\n",
       " 'LickSideCategory',\n",
       " 'Modality Preference Index',\n",
       " 'NR_Left_licks_aligned_spikes',\n",
       " 'NR_Right_licks_aligned_spikes',\n",
       " 'NR_licks_aligned_spikes',\n",
       " 'Next_LickSideCategory',\n",
       " 'Next_Reward',\n",
       " 'Next_Stim/Block/Response',\n",
       " 'Previous2_Correct',\n",
       " 'Previous2_Reward',\n",
       " 'Previous3_Correct',\n",
       " 'Previous3_Reward',\n",
       " 'Previous4_Correct',\n",
       " 'Previous4_Reward',\n",
       " 'Previous5_Correct',\n",
       " 'Previous5_Reward',\n",
       " 'Previous6_Correct',\n",
       " 'Previous6_Reward',\n",
       " 'Previous_Correct',\n",
       " 'Previous_LickSideCategory',\n",
       " 'Previous_Reward',\n",
       " 'Previous_Stim/Block/Response',\n",
       " 'Responsiveness_to_VisHit_0.05_to_0.45',\n",
       " 'Responsiveness_to_SomHit_0.05_to_0.45',\n",
       " 'Reward',\n",
       " 'Rewarded_Left_licks_aligned_spikes',\n",
       " 'Rewarded_Right_licks_aligned_spikes',\n",
       " 'Rewarded_licks_aligned_spikes',\n",
       " 'RightFirstLick',\n",
       " 'Stim/Block/Response',\n",
       " 'Trial_Start_Stop',\n",
       " 'Zscored_-1to3sec_25msecbins_StimAligned',\n",
       " 'block_type',\n",
       " 'cluster_name',\n",
       " 'date',\n",
       " 'event_detection_cma',\n",
       " 'licks_left',\n",
       " 'licks_left_trialonly',\n",
       " 'licks_right',\n",
       " 'licks_right_trialonly',\n",
       " 'mouse_name',\n",
       " 'non_rewarded_Left_licks',\n",
       " 'non_rewarded_Right_licks',\n",
       " 'non_rewarded_licks',\n",
       " 'response',\n",
       " 'rewarded_Left_licks',\n",
       " 'rewarded_Right_licks',\n",
       " 'rewarded_licks',\n",
       " 'shuffled_spike_times',\n",
       " 'spike_times',\n",
       " 'stim_offset',\n",
       " 'stim_onset',\n",
       " 'touch_stimulus',\n",
       " 'trial_num',\n",
       " 'trial_type',\n",
       " 'unit_95CI_25msecAUC_-1to3sec_SomHit_vs_SomMissVisCR',\n",
       " 'unit_95CI_25msecAUC_-1to3sec_VisHit_vs_VisMissSomCR',\n",
       " 'unit_Onset_25msecAUC_-1to3sec_SomHit_vs_SomMissVisCR',\n",
       " 'unit_Onset_25msecAUC_-1to3sec_VisHit_vs_VisMissSomCR',\n",
       " 'unit_Sig_25msecAUC_-1to3sec_SomHit_vs_SomMissVisCR',\n",
       " 'unit_Sig_25msecAUC_-1to3sec_VisHit_vs_VisMissSomCR',\n",
       " 'unit_mean_25msecAUC_-1to3sec_SomHit_vs_SomMissVisCR',\n",
       " 'unit_mean_25msecAUC_-1to3sec_VisHit_vs_VisMissSomCR',\n",
       " 'unit_name',\n",
       " 'unrewarded_licks',\n",
       " 'vis_stimulus',\n",
       " 'Cluster_PLUSvsMINUS']"
      ]
     },
     "execution_count": 11,
     "metadata": {},
     "output_type": "execute_result"
    }
   ],
   "source": [
    "file_to_open = data_folder / \"Master_log_OptoSameTT_LITEpart3a.pkl\"\n",
    "with open(file_to_open, 'rb') as f:\n",
    "   master3a = pickle.load(f, encoding='latin1')\n",
    "\n",
    "file_to_open = data_folder / \"Master_log_OptoSameTT_LITEpart3b.pkl\"\n",
    "with open(file_to_open, 'rb') as f:\n",
    "   master3b = pickle.load(f, encoding='latin1')\n",
    "\n",
    "file_to_open = data_folder / \"Master_log_OptoSameTT_LITEpart3c.pkl\"\n",
    "with open(file_to_open, 'rb') as f:\n",
    "   master3c = pickle.load(f, encoding='latin1')\n",
    "\n",
    "file_to_open = data_folder / \"Master_log_OptoSameTT_LITEpart3d.pkl\"\n",
    "with open(file_to_open, 'rb') as f:\n",
    "   master3d = pickle.load(f, encoding='latin1')\n",
    "\n",
    "master_log=pd.concat([master1a,master1b,master1c,master1d,master2a,master2b,master2c, master3a,master3b,master3c,master3d], axis=0)\n",
    "list(master_log)\n",
    "#master_log_lite=master_log[\n",
    "#['mouse_name',\n",
    "# 'date',\n",
    "# 'block_type',\n",
    "# 'trial_type',\n",
    "# 'touch_stimulus',\n",
    "# 'vis_stimulus',\n",
    "# 'response',\n",
    "# 'trial_num',\n",
    "# 'stim_onset',\n",
    "# 'stim_offset',\n",
    "# 'licks_right',\n",
    "# 'licks_left',\n",
    "# 'spike_times',\n",
    "# 'cluster_name',\n",
    "# '-0.5to2.0sec_25msecbins_StimAligned',\n",
    "# 'Category',\n",
    "# '-1to3sec_25msecbins_StimAligned',\n",
    "#  'Stim/Block/Response',\n",
    "# 'Reward',\n",
    "# 'rewarded_licks',\n",
    "# 'non_rewarded_licks',\n",
    "# 'unit_name',\n",
    "# 'LeftFirstLick',\n",
    "# 'RightFirstLick',\n",
    "# 'FirstLick',\n",
    "# '-1to3sec_25msecbins_LickAligned',\n",
    "#  'LickALigned_spike_times']]"
   ]
  },
  {
   "cell_type": "markdown",
   "metadata": {},
   "source": [
    "## Notes\n",
    "Category can be OptoTag, SameTT consider separate groups\n",
    "compare between groups\n",
    "\n",
    "differences in firing rate - compare firing rates in one second preceding stimulus, one second following stimulus\n",
    "\n",
    "optotagged ones seem to be responding stronger -> quantify\n",
    "     "
   ]
  },
  {
   "cell_type": "markdown",
   "metadata": {},
   "source": [
    "## To Do\n",
    "Compare mean firing rate before stimulus - is it different between vis/som blocks?, different before hit/miss\n",
    "\n",
    "1 neuron at a time\n",
    "\n",
    "multiple trials, take mean response for those trials grouped in correct blocks - compare those\n"
   ]
  },
  {
   "cell_type": "code",
   "execution_count": 30,
   "metadata": {},
   "outputs": [],
   "source": [
    "unit_log = master_log[master_log['unit_name'] == 'Claustrum25_20190816_TT7clst1']"
   ]
  },
  {
   "cell_type": "code",
   "execution_count": 32,
   "metadata": {
    "scrolled": true
   },
   "outputs": [
    {
     "ename": "ValueError",
     "evalue": "setting an array element with a sequence.",
     "output_type": "error",
     "traceback": [
      "\u001b[1;31m---------------------------------------------------------------------------\u001b[0m",
      "\u001b[1;31mValueError\u001b[0m                                Traceback (most recent call last)",
      "\u001b[1;32m<ipython-input-32-c926a36cef2a>\u001b[0m in \u001b[0;36m<module>\u001b[1;34m\u001b[0m\n\u001b[1;32m----> 1\u001b[1;33m \u001b[0mplt\u001b[0m\u001b[1;33m.\u001b[0m\u001b[0mplot\u001b[0m\u001b[1;33m(\u001b[0m\u001b[0mrange\u001b[0m\u001b[1;33m(\u001b[0m\u001b[0munit_log\u001b[0m\u001b[1;33m.\u001b[0m\u001b[0mshape\u001b[0m\u001b[1;33m[\u001b[0m\u001b[1;36m0\u001b[0m\u001b[1;33m]\u001b[0m\u001b[1;33m)\u001b[0m\u001b[1;33m,\u001b[0m\u001b[0munit_log\u001b[0m\u001b[1;33m[\u001b[0m\u001b[1;34m'spike_times'\u001b[0m\u001b[1;33m]\u001b[0m\u001b[1;33m)\u001b[0m\u001b[1;33m\u001b[0m\u001b[1;33m\u001b[0m\u001b[0m\n\u001b[0m",
      "\u001b[1;32mD:\\Program Files (x86)\\anaconda\\lib\\site-packages\\matplotlib\\pyplot.py\u001b[0m in \u001b[0;36mplot\u001b[1;34m(scalex, scaley, data, *args, **kwargs)\u001b[0m\n\u001b[0;32m   2787\u001b[0m     return gca().plot(\n\u001b[0;32m   2788\u001b[0m         *args, scalex=scalex, scaley=scaley, **({\"data\": data} if data\n\u001b[1;32m-> 2789\u001b[1;33m         is not None else {}), **kwargs)\n\u001b[0m\u001b[0;32m   2790\u001b[0m \u001b[1;33m\u001b[0m\u001b[0m\n\u001b[0;32m   2791\u001b[0m \u001b[1;33m\u001b[0m\u001b[0m\n",
      "\u001b[1;32mD:\\Program Files (x86)\\anaconda\\lib\\site-packages\\matplotlib\\axes\\_axes.py\u001b[0m in \u001b[0;36mplot\u001b[1;34m(self, scalex, scaley, data, *args, **kwargs)\u001b[0m\n\u001b[0;32m   1666\u001b[0m         \u001b[0mlines\u001b[0m \u001b[1;33m=\u001b[0m \u001b[1;33m[\u001b[0m\u001b[1;33m*\u001b[0m\u001b[0mself\u001b[0m\u001b[1;33m.\u001b[0m\u001b[0m_get_lines\u001b[0m\u001b[1;33m(\u001b[0m\u001b[1;33m*\u001b[0m\u001b[0margs\u001b[0m\u001b[1;33m,\u001b[0m \u001b[0mdata\u001b[0m\u001b[1;33m=\u001b[0m\u001b[0mdata\u001b[0m\u001b[1;33m,\u001b[0m \u001b[1;33m**\u001b[0m\u001b[0mkwargs\u001b[0m\u001b[1;33m)\u001b[0m\u001b[1;33m]\u001b[0m\u001b[1;33m\u001b[0m\u001b[1;33m\u001b[0m\u001b[0m\n\u001b[0;32m   1667\u001b[0m         \u001b[1;32mfor\u001b[0m \u001b[0mline\u001b[0m \u001b[1;32min\u001b[0m \u001b[0mlines\u001b[0m\u001b[1;33m:\u001b[0m\u001b[1;33m\u001b[0m\u001b[1;33m\u001b[0m\u001b[0m\n\u001b[1;32m-> 1668\u001b[1;33m             \u001b[0mself\u001b[0m\u001b[1;33m.\u001b[0m\u001b[0madd_line\u001b[0m\u001b[1;33m(\u001b[0m\u001b[0mline\u001b[0m\u001b[1;33m)\u001b[0m\u001b[1;33m\u001b[0m\u001b[1;33m\u001b[0m\u001b[0m\n\u001b[0m\u001b[0;32m   1669\u001b[0m         \u001b[0mself\u001b[0m\u001b[1;33m.\u001b[0m\u001b[0mautoscale_view\u001b[0m\u001b[1;33m(\u001b[0m\u001b[0mscalex\u001b[0m\u001b[1;33m=\u001b[0m\u001b[0mscalex\u001b[0m\u001b[1;33m,\u001b[0m \u001b[0mscaley\u001b[0m\u001b[1;33m=\u001b[0m\u001b[0mscaley\u001b[0m\u001b[1;33m)\u001b[0m\u001b[1;33m\u001b[0m\u001b[1;33m\u001b[0m\u001b[0m\n\u001b[0;32m   1670\u001b[0m         \u001b[1;32mreturn\u001b[0m \u001b[0mlines\u001b[0m\u001b[1;33m\u001b[0m\u001b[1;33m\u001b[0m\u001b[0m\n",
      "\u001b[1;32mD:\\Program Files (x86)\\anaconda\\lib\\site-packages\\matplotlib\\axes\\_base.py\u001b[0m in \u001b[0;36madd_line\u001b[1;34m(self, line)\u001b[0m\n\u001b[0;32m   1898\u001b[0m             \u001b[0mline\u001b[0m\u001b[1;33m.\u001b[0m\u001b[0mset_clip_path\u001b[0m\u001b[1;33m(\u001b[0m\u001b[0mself\u001b[0m\u001b[1;33m.\u001b[0m\u001b[0mpatch\u001b[0m\u001b[1;33m)\u001b[0m\u001b[1;33m\u001b[0m\u001b[1;33m\u001b[0m\u001b[0m\n\u001b[0;32m   1899\u001b[0m \u001b[1;33m\u001b[0m\u001b[0m\n\u001b[1;32m-> 1900\u001b[1;33m         \u001b[0mself\u001b[0m\u001b[1;33m.\u001b[0m\u001b[0m_update_line_limits\u001b[0m\u001b[1;33m(\u001b[0m\u001b[0mline\u001b[0m\u001b[1;33m)\u001b[0m\u001b[1;33m\u001b[0m\u001b[1;33m\u001b[0m\u001b[0m\n\u001b[0m\u001b[0;32m   1901\u001b[0m         \u001b[1;32mif\u001b[0m \u001b[1;32mnot\u001b[0m \u001b[0mline\u001b[0m\u001b[1;33m.\u001b[0m\u001b[0mget_label\u001b[0m\u001b[1;33m(\u001b[0m\u001b[1;33m)\u001b[0m\u001b[1;33m:\u001b[0m\u001b[1;33m\u001b[0m\u001b[1;33m\u001b[0m\u001b[0m\n\u001b[0;32m   1902\u001b[0m             \u001b[0mline\u001b[0m\u001b[1;33m.\u001b[0m\u001b[0mset_label\u001b[0m\u001b[1;33m(\u001b[0m\u001b[1;34m'_line%d'\u001b[0m \u001b[1;33m%\u001b[0m \u001b[0mlen\u001b[0m\u001b[1;33m(\u001b[0m\u001b[0mself\u001b[0m\u001b[1;33m.\u001b[0m\u001b[0mlines\u001b[0m\u001b[1;33m)\u001b[0m\u001b[1;33m)\u001b[0m\u001b[1;33m\u001b[0m\u001b[1;33m\u001b[0m\u001b[0m\n",
      "\u001b[1;32mD:\\Program Files (x86)\\anaconda\\lib\\site-packages\\matplotlib\\axes\\_base.py\u001b[0m in \u001b[0;36m_update_line_limits\u001b[1;34m(self, line)\u001b[0m\n\u001b[0;32m   1920\u001b[0m         \u001b[0mFigures\u001b[0m \u001b[0mout\u001b[0m \u001b[0mthe\u001b[0m \u001b[0mdata\u001b[0m \u001b[0mlimit\u001b[0m \u001b[0mof\u001b[0m \u001b[0mthe\u001b[0m \u001b[0mgiven\u001b[0m \u001b[0mline\u001b[0m\u001b[1;33m,\u001b[0m \u001b[0mupdating\u001b[0m \u001b[0mself\u001b[0m\u001b[1;33m.\u001b[0m\u001b[0mdataLim\u001b[0m\u001b[1;33m.\u001b[0m\u001b[1;33m\u001b[0m\u001b[1;33m\u001b[0m\u001b[0m\n\u001b[0;32m   1921\u001b[0m         \"\"\"\n\u001b[1;32m-> 1922\u001b[1;33m         \u001b[0mpath\u001b[0m \u001b[1;33m=\u001b[0m \u001b[0mline\u001b[0m\u001b[1;33m.\u001b[0m\u001b[0mget_path\u001b[0m\u001b[1;33m(\u001b[0m\u001b[1;33m)\u001b[0m\u001b[1;33m\u001b[0m\u001b[1;33m\u001b[0m\u001b[0m\n\u001b[0m\u001b[0;32m   1923\u001b[0m         \u001b[1;32mif\u001b[0m \u001b[0mpath\u001b[0m\u001b[1;33m.\u001b[0m\u001b[0mvertices\u001b[0m\u001b[1;33m.\u001b[0m\u001b[0msize\u001b[0m \u001b[1;33m==\u001b[0m \u001b[1;36m0\u001b[0m\u001b[1;33m:\u001b[0m\u001b[1;33m\u001b[0m\u001b[1;33m\u001b[0m\u001b[0m\n\u001b[0;32m   1924\u001b[0m             \u001b[1;32mreturn\u001b[0m\u001b[1;33m\u001b[0m\u001b[1;33m\u001b[0m\u001b[0m\n",
      "\u001b[1;32mD:\\Program Files (x86)\\anaconda\\lib\\site-packages\\matplotlib\\lines.py\u001b[0m in \u001b[0;36mget_path\u001b[1;34m(self)\u001b[0m\n\u001b[0;32m   1025\u001b[0m         \"\"\"\n\u001b[0;32m   1026\u001b[0m         \u001b[1;32mif\u001b[0m \u001b[0mself\u001b[0m\u001b[1;33m.\u001b[0m\u001b[0m_invalidy\u001b[0m \u001b[1;32mor\u001b[0m \u001b[0mself\u001b[0m\u001b[1;33m.\u001b[0m\u001b[0m_invalidx\u001b[0m\u001b[1;33m:\u001b[0m\u001b[1;33m\u001b[0m\u001b[1;33m\u001b[0m\u001b[0m\n\u001b[1;32m-> 1027\u001b[1;33m             \u001b[0mself\u001b[0m\u001b[1;33m.\u001b[0m\u001b[0mrecache\u001b[0m\u001b[1;33m(\u001b[0m\u001b[1;33m)\u001b[0m\u001b[1;33m\u001b[0m\u001b[1;33m\u001b[0m\u001b[0m\n\u001b[0m\u001b[0;32m   1028\u001b[0m         \u001b[1;32mreturn\u001b[0m \u001b[0mself\u001b[0m\u001b[1;33m.\u001b[0m\u001b[0m_path\u001b[0m\u001b[1;33m\u001b[0m\u001b[1;33m\u001b[0m\u001b[0m\n\u001b[0;32m   1029\u001b[0m \u001b[1;33m\u001b[0m\u001b[0m\n",
      "\u001b[1;32mD:\\Program Files (x86)\\anaconda\\lib\\site-packages\\matplotlib\\lines.py\u001b[0m in \u001b[0;36mrecache\u001b[1;34m(self, always)\u001b[0m\n\u001b[0;32m    673\u001b[0m         \u001b[1;32mif\u001b[0m \u001b[0malways\u001b[0m \u001b[1;32mor\u001b[0m \u001b[0mself\u001b[0m\u001b[1;33m.\u001b[0m\u001b[0m_invalidy\u001b[0m\u001b[1;33m:\u001b[0m\u001b[1;33m\u001b[0m\u001b[1;33m\u001b[0m\u001b[0m\n\u001b[0;32m    674\u001b[0m             \u001b[0myconv\u001b[0m \u001b[1;33m=\u001b[0m \u001b[0mself\u001b[0m\u001b[1;33m.\u001b[0m\u001b[0mconvert_yunits\u001b[0m\u001b[1;33m(\u001b[0m\u001b[0mself\u001b[0m\u001b[1;33m.\u001b[0m\u001b[0m_yorig\u001b[0m\u001b[1;33m)\u001b[0m\u001b[1;33m\u001b[0m\u001b[1;33m\u001b[0m\u001b[0m\n\u001b[1;32m--> 675\u001b[1;33m             \u001b[0my\u001b[0m \u001b[1;33m=\u001b[0m \u001b[0m_to_unmasked_float_array\u001b[0m\u001b[1;33m(\u001b[0m\u001b[0myconv\u001b[0m\u001b[1;33m)\u001b[0m\u001b[1;33m.\u001b[0m\u001b[0mravel\u001b[0m\u001b[1;33m(\u001b[0m\u001b[1;33m)\u001b[0m\u001b[1;33m\u001b[0m\u001b[1;33m\u001b[0m\u001b[0m\n\u001b[0m\u001b[0;32m    676\u001b[0m         \u001b[1;32melse\u001b[0m\u001b[1;33m:\u001b[0m\u001b[1;33m\u001b[0m\u001b[1;33m\u001b[0m\u001b[0m\n\u001b[0;32m    677\u001b[0m             \u001b[0my\u001b[0m \u001b[1;33m=\u001b[0m \u001b[0mself\u001b[0m\u001b[1;33m.\u001b[0m\u001b[0m_y\u001b[0m\u001b[1;33m\u001b[0m\u001b[1;33m\u001b[0m\u001b[0m\n",
      "\u001b[1;32mD:\\Program Files (x86)\\anaconda\\lib\\site-packages\\matplotlib\\cbook\\__init__.py\u001b[0m in \u001b[0;36m_to_unmasked_float_array\u001b[1;34m(x)\u001b[0m\n\u001b[0;32m   1388\u001b[0m         \u001b[1;32mreturn\u001b[0m \u001b[0mnp\u001b[0m\u001b[1;33m.\u001b[0m\u001b[0mma\u001b[0m\u001b[1;33m.\u001b[0m\u001b[0masarray\u001b[0m\u001b[1;33m(\u001b[0m\u001b[0mx\u001b[0m\u001b[1;33m,\u001b[0m \u001b[0mfloat\u001b[0m\u001b[1;33m)\u001b[0m\u001b[1;33m.\u001b[0m\u001b[0mfilled\u001b[0m\u001b[1;33m(\u001b[0m\u001b[0mnp\u001b[0m\u001b[1;33m.\u001b[0m\u001b[0mnan\u001b[0m\u001b[1;33m)\u001b[0m\u001b[1;33m\u001b[0m\u001b[1;33m\u001b[0m\u001b[0m\n\u001b[0;32m   1389\u001b[0m     \u001b[1;32melse\u001b[0m\u001b[1;33m:\u001b[0m\u001b[1;33m\u001b[0m\u001b[1;33m\u001b[0m\u001b[0m\n\u001b[1;32m-> 1390\u001b[1;33m         \u001b[1;32mreturn\u001b[0m \u001b[0mnp\u001b[0m\u001b[1;33m.\u001b[0m\u001b[0masarray\u001b[0m\u001b[1;33m(\u001b[0m\u001b[0mx\u001b[0m\u001b[1;33m,\u001b[0m \u001b[0mfloat\u001b[0m\u001b[1;33m)\u001b[0m\u001b[1;33m\u001b[0m\u001b[1;33m\u001b[0m\u001b[0m\n\u001b[0m\u001b[0;32m   1391\u001b[0m \u001b[1;33m\u001b[0m\u001b[0m\n\u001b[0;32m   1392\u001b[0m \u001b[1;33m\u001b[0m\u001b[0m\n",
      "\u001b[1;32mD:\\Program Files (x86)\\anaconda\\lib\\site-packages\\numpy\\core\\numeric.py\u001b[0m in \u001b[0;36masarray\u001b[1;34m(a, dtype, order)\u001b[0m\n\u001b[0;32m    536\u001b[0m \u001b[1;33m\u001b[0m\u001b[0m\n\u001b[0;32m    537\u001b[0m     \"\"\"\n\u001b[1;32m--> 538\u001b[1;33m     \u001b[1;32mreturn\u001b[0m \u001b[0marray\u001b[0m\u001b[1;33m(\u001b[0m\u001b[0ma\u001b[0m\u001b[1;33m,\u001b[0m \u001b[0mdtype\u001b[0m\u001b[1;33m,\u001b[0m \u001b[0mcopy\u001b[0m\u001b[1;33m=\u001b[0m\u001b[1;32mFalse\u001b[0m\u001b[1;33m,\u001b[0m \u001b[0morder\u001b[0m\u001b[1;33m=\u001b[0m\u001b[0morder\u001b[0m\u001b[1;33m)\u001b[0m\u001b[1;33m\u001b[0m\u001b[1;33m\u001b[0m\u001b[0m\n\u001b[0m\u001b[0;32m    539\u001b[0m \u001b[1;33m\u001b[0m\u001b[0m\n\u001b[0;32m    540\u001b[0m \u001b[1;33m\u001b[0m\u001b[0m\n",
      "\u001b[1;31mValueError\u001b[0m: setting an array element with a sequence."
     ]
    },
    {
     "data": {
      "image/png": "[encoded data removed]",
      "text/plain": [
       "<Figure size 432x288 with 1 Axes>"
      ]
     },
     "metadata": {
      "needs_background": "light"
     },
     "output_type": "display_data"
    }
   ],
   "source": [
    "plt.plot(range(unit_log.shape[0]),unit_log['spike_times'])\n",
    "# currently trying to make raster plot of spikes\n",
    "# for 2 seconds before stim and 2 seconds after stim"
   ]
  },
  {
   "cell_type": "code",
   "execution_count": 31,
   "metadata": {},
   "outputs": [
    {
     "data": {
      "text/plain": [
       "(450, 76)"
      ]
     },
     "execution_count": 31,
     "metadata": {},
     "output_type": "execute_result"
    }
   ],
   "source": [
    "unit_log.shape"
   ]
  },
  {
   "cell_type": "code",
   "execution_count": null,
   "metadata": {},
   "outputs": [],
   "source": []
  }
 ],
 "metadata": {
  "kernelspec": {
   "display_name": "Python 3",
   "language": "python",
   "name": "python3"
  },
  "language_info": {
   "codemirror_mode": {
    "name": "ipython",
    "version": 3
   },
   "file_extension": ".py",
   "mimetype": "text/x-python",
   "name": "python",
   "nbconvert_exporter": "python",
   "pygments_lexer": "ipython3",
   "version": "3.7.3"
  }
 },
 "nbformat": 4,
 "nbformat_minor": 2
}

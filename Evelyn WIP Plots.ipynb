{
 "cells": [
  {
   "cell_type": "code",
   "execution_count": 2,
   "metadata": {},
   "outputs": [],
   "source": [
    "import numpy as np\n",
    "import matplotlib.pyplot as plt\n",
    "from matplotlib import rc\n",
    "import pandas as pd"
   ]
  },
  {
   "cell_type": "code",
   "execution_count": 6,
   "metadata": {},
   "outputs": [
    {
     "data": {
      "text/plain": [
       "<BarContainer object of 5 artists>"
      ]
     },
     "execution_count": 6,
     "metadata": {},
     "output_type": "execute_result"
    },
    {
     "data": {
      "image/png": "[encoded data removed]",
      "text/plain": [
       "<Figure size 432x288 with 1 Axes>"
      ]
     },
     "metadata": {
      "needs_background": "light"
     },
     "output_type": "display_data"
    }
   ],
   "source": [
    "rc('font',weight='bold')\n",
    "bars1 = [12, 28, 1, 8, 22]\n",
    "bars2 = [28, 7, 16, 4, 10]\n",
    "bars3 = [25, 3, 23, 25, 17]\n",
    "bars = np.add(bars1, bars2).tolist()\n",
    "r = [0, 1, 2, 3, 4]\n",
    "names = ['a','b','c','d','e']\n",
    "barWidth = 1\n",
    "plt.bar(r, bars1, width = barWidth)\n",
    "plt.bar(r,bars2, bottom=bars1, width=barWidth)\n",
    "plt.bar(r, bars3, bottom=bars, width = barWidth)"
   ]
  },
  {
   "cell_type": "code",
   "execution_count": 70,
   "metadata": {},
   "outputs": [],
   "source": [
    "import pickle\n",
    "from pathlib import Path\n",
    "data_folder = Path('Z:\\\\Maxime Chevee\\Maxime 3\\Analysis\\Analysis OptoTagged 20180411')\n",
    "file_to_open = data_folder / \"master_log_lite.pkl\"\n",
    "with open(file_to_open, 'rb') as f:\n",
    "   master_log = pickle.load(f, encoding='latin1')"
   ]
  },
  {
   "cell_type": "code",
   "execution_count": null,
   "metadata": {},
   "outputs": [],
   "source": [
    "list(master_log)"
   ]
  },
  {
   "cell_type": "code",
   "execution_count": 72,
   "metadata": {},
   "outputs": [
    {
     "data": {
      "text/plain": [
       "0"
      ]
     },
     "execution_count": 72,
     "metadata": {},
     "output_type": "execute_result"
    }
   ],
   "source": [
    "len(master_log[(master_log['Stim/Block/Response'] == 'VisHit') & (master_log.unit_name == 'Cl5_05-19-17_TT1clst1')])"
   ]
  },
  {
   "cell_type": "code",
   "execution_count": 15,
   "metadata": {},
   "outputs": [
    {
     "data": {
      "text/plain": [
       "['SomMiss', 'SomFA', 'SomCR', 'SomHit', 'VisMiss', 'VisCR', 'VisHit', 'VisFA']"
      ]
     },
     "execution_count": 15,
     "metadata": {},
     "output_type": "execute_result"
    }
   ],
   "source": [
    "trial_types = list(master_log['Stim/Block/Response'].unique())\n",
    "trial_types"
   ]
  },
  {
   "cell_type": "code",
   "execution_count": null,
   "metadata": {},
   "outputs": [],
   "source": []
  },
  {
   "cell_type": "code",
   "execution_count": 176,
   "metadata": {},
   "outputs": [],
   "source": [
    "import numpy as np\n",
    "import pandas as pd\n",
    "#Creat a dictionary recording trial type specific hit, miss, FA, and CR\n",
    "trial_types = list(master_log['Stim/Block/Response'].unique())\n",
    "mouse_uni = np.unique(master_log.mouse_name)\n",
    "date_uni = np.unique(master_log.date)\n",
    "neuron = 'TT1clst1'\n",
    "D_initial = {}"
   ]
  },
  {
   "cell_type": "code",
   "execution_count": 181,
   "metadata": {},
   "outputs": [
    {
     "name": "stdout",
     "output_type": "stream",
     "text": [
      "['SomMiss', 'SomFA', 'SomCR', 'SomHit', 'VisMiss', 'VisCR', 'VisHit', 'VisFA']\n"
     ]
    },
    {
     "data": {
      "text/plain": [
       "8"
      ]
     },
     "execution_count": 181,
     "metadata": {},
     "output_type": "execute_result"
    }
   ],
   "source": [
    "print(trial_types)\n",
    "len(trial_types)"
   ]
  },
  {
   "cell_type": "code",
   "execution_count": 190,
   "metadata": {},
   "outputs": [],
   "source": [
    "import numpy as np\n",
    "import pandas as pd\n",
    "#Creat a dictionary recording trial type specific hit, miss, FA, and CR\n",
    "trial_types = list(master_log['Stim/Block/Response'].unique())\n",
    "mouse_uni = np.unique(master_log.mouse_name)\n",
    "date_uni = np.unique(master_log.date)\n",
    "#Fix missing sessions\n",
    "neuron = 'TT1clst1'\n",
    "D_initial = {}\n",
    "\n",
    "for name in range(0, len(mouse_uni)):\n",
    "    for date in range(0, len(date_uni)):\n",
    "        D_initial[str(mouse_uni[name])+','+str(date_uni[date])] = [len(master_log[(master_log['Stim/Block/Response'] == trial_types[0]) & (master_log.date == date_uni[date][0]) & (master_log.mouse_name == mouse_uni[name][0]) & (master_log.cluster_name == neuron)]),\n",
    "                                                           len(master_log[(master_log['Stim/Block/Response'] == trial_types[1]) & (master_log.date == date_uni[date][0]) & (master_log.mouse_name == mouse_uni[name][0]) & (master_log.cluster_name == neuron)]),\n",
    "                                                           len(master_log[(master_log['Stim/Block/Response'] == trial_types[2]) & (master_log.date == date_uni[date][0]) & (master_log.mouse_name == mouse_uni[name][0]) & (master_log.cluster_name == neuron)]),\n",
    "                                                           len(master_log[(master_log['Stim/Block/Response'] == trial_types[3]) & (master_log.date == date_uni[date][0]) & (master_log.mouse_name == mouse_uni[name][0]) & (master_log.cluster_name == neuron)]),\n",
    "                                                           len(master_log[(master_log['Stim/Block/Response'] == trial_types[4]) & (master_log.date == date_uni[date][0]) & (master_log.mouse_name == mouse_uni[name][0]) & (master_log.cluster_name == neuron)]),\n",
    "                                                           len(master_log[(master_log['Stim/Block/Response'] == trial_types[5]) & (master_log.date == date_uni[date][0]) & (master_log.mouse_name == mouse_uni[name][0]) & (master_log.cluster_name == neuron)]),\n",
    "                                                           len(master_log[(master_log['Stim/Block/Response'] == trial_types[6]) & (master_log.date == date_uni[date][0]) & (master_log.mouse_name == mouse_uni[name][0]) & (master_log.cluster_name == neuron)]),\n",
    "                                                           len(master_log[(master_log['Stim/Block/Response'] == trial_types[7]) & (master_log.date == date_uni[date][0]) & (master_log.mouse_name == mouse_uni[name][0]) & (master_log.cluster_name == neuron)])]\n"
   ]
  },
  {
   "cell_type": "code",
   "execution_count": 194,
   "metadata": {},
   "outputs": [
    {
     "data": {
      "text/plain": [
       "1.0000000000000002"
      ]
     },
     "execution_count": 194,
     "metadata": {},
     "output_type": "execute_result"
    }
   ],
   "source": [
    "#Create a dictionary with trial types and ratios\n",
    "session = {}\n",
    "for i in D_initial:\n",
    "    if sum(D_initial[i][0:4]) != 0 or sum(D_initial[i][4:8]) != 0:\n",
    "        session[i] = [D_initial[i][0]/sum(D_initial[i][0:4]),\n",
    "                      D_initial[i][1]/sum(D_initial[i][0:4]),\n",
    "                      D_initial[i][2]/sum(D_initial[i][0:4]),\n",
    "                      D_initial[i][3]/sum(D_initial[i][0:4]),\n",
    "                      D_initial[i][4]/sum(D_initial[i][4:8]),\n",
    "                      D_initial[i][5]/sum(D_initial[i][4:8]),\n",
    "                      D_initial[i][6]/sum(D_initial[i][4:8]),\n",
    "                      D_initial[i][7]/sum(D_initial[i][4:8])]\n",
    "#Create a list that contains the mean ratios of each trial type\n",
    "means = []\n",
    "for count in range(0, len(trial_types)):\n",
    "    temp = []\n",
    "    for i in session:\n",
    "        temp.append(session[i][count])\n",
    "    means.append(np.mean(temp))\n",
    "sum(means[0:4])"
   ]
  },
  {
   "cell_type": "code",
   "execution_count": 122,
   "metadata": {},
   "outputs": [
    {
     "data": {
      "text/plain": [
       "{'SomMiss': 620,\n",
       " 'SomFA': 992,\n",
       " 'SomCR': 2540,\n",
       " 'SomHit': 3884,\n",
       " 'VisMiss': 4343,\n",
       " 'VisCR': 5807,\n",
       " 'VisHit': 7186,\n",
       " 'VisFA': 7534}"
      ]
     },
     "execution_count": 122,
     "metadata": {},
     "output_type": "execute_result"
    }
   ],
   "source": [
    "#Create a list recording the sums of all mice for each trial type\n",
    "type_sum = {}\n",
    "temp_list = []\n",
    "for i in range(0, len(trial_types)):\n",
    "    for j in D_initial:\n",
    "        temp_list.append(D_initial[j][i])\n",
    "    type_sum[trial_types[i]] = sum(temp_list)\n",
    "type_sum"
   ]
  },
  {
   "cell_type": "code",
   "execution_count": null,
   "metadata": {},
   "outputs": [],
   "source": []
  },
  {
   "cell_type": "code",
   "execution_count": 123,
   "metadata": {},
   "outputs": [],
   "source": [
    "#Sum somatosensory and visual results\n",
    "som_sum = type_sum['SomMiss']+type_sum['SomFA']+type_sum['SomCR']+type_sum['SomHit']\n",
    "vis_sum = type_sum['VisMiss']+type_sum['VisCR']+type_sum['VisHit']+type_sum['VisFA']\n",
    "#Create "
   ]
  },
  {
   "cell_type": "code",
   "execution_count": null,
   "metadata": {},
   "outputs": [],
   "source": []
  },
  {
   "cell_type": "code",
   "execution_count": 116,
   "metadata": {},
   "outputs": [
    {
     "data": {
      "text/plain": [
       "'Cl4'"
      ]
     },
     "execution_count": 116,
     "metadata": {},
     "output_type": "execute_result"
    }
   ],
   "source": [
    "import numpy as np\n",
    "len(np.unique(master_log.date))\n",
    "mouse_uni = np.unique(master_log.mouse_name)\n",
    "date_uni = np.unique(master_log.date)\n",
    "mouse_uni[0][0]"
   ]
  },
  {
   "cell_type": "code",
   "execution_count": 89,
   "metadata": {},
   "outputs": [
    {
     "data": {
      "text/plain": [
       "1"
      ]
     },
     "execution_count": 89,
     "metadata": {},
     "output_type": "execute_result"
    }
   ],
   "source": [
    "d={'a':[1,2],'b':2,'c':3}\n",
    "d['a'][0]"
   ]
  },
  {
   "cell_type": "code",
   "execution_count": 102,
   "metadata": {},
   "outputs": [
    {
     "data": {
      "text/plain": [
       "4"
      ]
     },
     "execution_count": 102,
     "metadata": {},
     "output_type": "execute_result"
    }
   ],
   "source": [
    "l = [1,1,1,1,5,6,7,8,9]\n",
    "sum(l[0:4])"
   ]
  },
  {
   "cell_type": "code",
   "execution_count": null,
   "metadata": {},
   "outputs": [],
   "source": []
  },
  {
   "cell_type": "code",
   "execution_count": null,
   "metadata": {},
   "outputs": [],
   "source": []
  }
 ],
 "metadata": {
  "kernelspec": {
   "display_name": "Python 3",
   "language": "python",
   "name": "python3"
  },
  "language_info": {
   "codemirror_mode": {
    "name": "ipython",
    "version": 3
   },
   "file_extension": ".py",
   "mimetype": "text/x-python",
   "name": "python",
   "nbconvert_exporter": "python",
   "pygments_lexer": "ipython3",
   "version": "3.7.3"
  }
 },
 "nbformat": 4,
 "nbformat_minor": 2
}

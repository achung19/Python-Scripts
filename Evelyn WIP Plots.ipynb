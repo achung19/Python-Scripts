{
 "cells": [
  {
   "cell_type": "code",
   "execution_count": 1,
   "metadata": {},
   "outputs": [],
   "source": [
    "import pickle\n",
    "from pathlib import Path\n",
    "data_folder = Path('Z:\\\\Maxime Chevee\\Maxime 3\\Analysis\\Analysis OptoTagged 20180411')\n",
    "file_to_open = data_folder / \"master_log_lite.pkl\"\n",
    "with open(file_to_open, 'rb') as f:\n",
    "   master_log = pickle.load(f, encoding='latin1')"
   ]
  },
  {
   "cell_type": "code",
   "execution_count": 88,
   "metadata": {},
   "outputs": [],
   "source": [
    "import numpy as np\n",
    "import pandas as pd\n",
    "trial_types = list(master_log['Stim/Block/Response'].unique())\n",
    "mouse_uni = np.unique(master_log.mouse_name)\n",
    "date_uni = np.unique(master_log.date)\n",
    "\n",
    "#Sub-DataFrame for Cl4 & Dictionary for session and numbers for specific trial types\n",
    "session = {}\n",
    "for i in range(0, len(mouse_uni)):\n",
    "    for j in range(0, len(date_uni)):\n",
    "        sub = master_log[(master_log.mouse_name == mouse_uni[i][0]) & (master_log.date == date_uni[j][0])]\n",
    "        if (sub.empty == False):\n",
    "            session[str(mouse_uni[i][0])+','+str(date_uni[j][0])] = [len(sub[(sub['Stim/Block/Response'] == trial_types[0]) & (sub.cluster_name == sub.cluster_name[sub.cluster_name.index[0]][0])]),\n",
    "                                                                     len(sub[(sub['Stim/Block/Response'] == trial_types[1]) & (sub.cluster_name == sub.cluster_name[sub.cluster_name.index[0]][0])]),\n",
    "                                                                     len(sub[(sub['Stim/Block/Response'] == trial_types[2]) & (sub.cluster_name == sub.cluster_name[sub.cluster_name.index[0]][0])]),\n",
    "                                                                     len(sub[(sub['Stim/Block/Response'] == trial_types[3]) & (sub.cluster_name == sub.cluster_name[sub.cluster_name.index[0]][0])]),\n",
    "                                                                     len(sub[(sub['Stim/Block/Response'] == trial_types[4]) & (sub.cluster_name == sub.cluster_name[sub.cluster_name.index[0]][0])]),\n",
    "                                                                     len(sub[(sub['Stim/Block/Response'] == trial_types[5]) & (sub.cluster_name == sub.cluster_name[sub.cluster_name.index[0]][0])]),\n",
    "                                                                     len(sub[(sub['Stim/Block/Response'] == trial_types[6]) & (sub.cluster_name == sub.cluster_name[sub.cluster_name.index[0]][0])]),\n",
    "                                                                     len(sub[(sub['Stim/Block/Response'] == trial_types[7]) & (sub.cluster_name == sub.cluster_name[sub.cluster_name.index[0]][0])])]\n"
   ]
  },
  {
   "cell_type": "code",
   "execution_count": 319,
   "metadata": {},
   "outputs": [],
   "source": [
    "#Create a dictionary with trial types and ratios\n",
    "session_ratio = {}\n",
    "for i in session:\n",
    "    if sum(session[i][0:4]) != 0 or sum(session[i][4:8]) != 0:\n",
    "        session_ratio[i] = [session[i][0]/sum(session[i][0:4]),\n",
    "                      session[i][1]/sum(session[i][0:4]),\n",
    "                      session[i][2]/sum(session[i][0:4]),\n",
    "                      session[i][3]/sum(session[i][0:4]),\n",
    "                      session[i][4]/sum(session[i][4:8]),\n",
    "                      session[i][5]/sum(session[i][4:8]),\n",
    "                      session[i][6]/sum(session[i][4:8]),\n",
    "                      session[i][7]/sum(session[i][4:8])]\n",
    "#Create a list that contains the mean ratios of each trial type\n",
    "means = []\n",
    "for count in range(0, len(trial_types)):\n",
    "    temp = []\n",
    "    for i in session_ratio:\n",
    "        temp.append(session_ratio[i][count])\n",
    "    means.append(np.mean(temp))\n",
    "#Create a list that contains the standard errors of each trial type\n",
    "err = []\n",
    "for count in range(0, len(trial_types)):\n",
    "    temp = []\n",
    "    for i in session_ratio:\n",
    "        temp.append(session_ratio[i][count])\n",
    "    err.append(np.std(temp))"
   ]
  },
  {
   "cell_type": "code",
   "execution_count": 320,
   "metadata": {},
   "outputs": [
    {
     "data": {
      "text/plain": [
       "<matplotlib.legend.Legend at 0x20fd9a60278>"
      ]
     },
     "execution_count": 320,
     "metadata": {},
     "output_type": "execute_result"
    },
    {
     "data": {
      "image/png": "[encoded data removed]",
      "text/plain": [
       "<Figure size 432x288 with 1 Axes>"
      ]
     },
     "metadata": {
      "needs_background": "light"
     },
     "output_type": "display_data"
    }
   ],
   "source": [
    "#Create bar-plots corresponding to the means of trial types\n",
    "import numpy as np\n",
    "import matplotlib.pyplot as plt\n",
    "from matplotlib import rc\n",
    "import pandas as pd\n",
    "rc('font',weight='bold')\n",
    "bars1 = [means[0], means[4]]\n",
    "err1 = [err[0], err[4]]\n",
    "bars2 = [means[1], means[7]]\n",
    "err2 = [err[1], err[7]]\n",
    "bars3 = [means[2], means[5]]\n",
    "err3 = [err[2], err[5]]\n",
    "bars4 = [means[3], means[6]]\n",
    "err4 = [err[3], err[6]]\n",
    "bars12 = np.add(bars1, bars2).tolist()\n",
    "bars123 = np.add(bars12, bars3).tolist()\n",
    "pos = ['Somatosensory','Visual']\n",
    "barWidth = 0.1\n",
    "p1 = plt.bar(pos, bars1, width=barWidth, color='salmon', yerr=err1, capsize=5, ecolor='black')\n",
    "p2 = plt.bar(pos, bars2, bottom=bars1, width=barWidth, color='mediumseagreen', yerr=err2, capsize=5, ecolor='yellow')\n",
    "p3 = plt.bar(pos, bars3, bottom=bars12, width=barWidth, color='green', yerr=err3, capsize=5)\n",
    "p4 = plt.bar(pos, bars4, bottom=bars123, width=barWidth, color='red', yerr=err4, capsize=5)\n",
    "plt.legend((p1[0],p2[0],p3[0],p4[0]), ('Miss','FA','CR','Hit'),ncol=4,bbox_to_anchor=(0.5,-0.15),loc='center')"
   ]
  },
  {
   "cell_type": "code",
   "execution_count": null,
   "metadata": {},
   "outputs": [],
   "source": []
  }
 ],
 "metadata": {
  "kernelspec": {
   "display_name": "Python 3",
   "language": "python",
   "name": "python3"
  },
  "language_info": {
   "codemirror_mode": {
    "name": "ipython",
    "version": 3
   },
   "file_extension": ".py",
   "mimetype": "text/x-python",
   "name": "python",
   "nbconvert_exporter": "python",
   "pygments_lexer": "ipython3",
   "version": "3.7.0"
  }
 },
 "nbformat": 4,
 "nbformat_minor": 2
}

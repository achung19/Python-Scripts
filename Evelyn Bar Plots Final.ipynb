{
 "cells": [
  {
   "cell_type": "code",
   "execution_count": 1,
   "metadata": {},
   "outputs": [],
   "source": [
    "#Import Old DataFrame\n",
    "import pickle\n",
    "from pathlib import Path\n",
    "data_folder = Path('Z:\\\\Maxime Chevee\\Maxime 3\\Analysis\\Analysis OptoTagged 20180411')\n",
    "file_to_open = data_folder / \"master_log_lite.pkl\"\n",
    "with open(file_to_open, 'rb') as f:\n",
    "   master_log = pickle.load(f, encoding='latin1')"
   ]
  },
  {
   "cell_type": "code",
   "execution_count": 2,
   "metadata": {},
   "outputs": [],
   "source": [
    "import numpy as np\n",
    "import pandas as pd\n",
    "trial_types = list(master_log['Stim/Block/Response'].unique())  #Create a list of all trial types: SomHit, SomMiss, etc.\n",
    "mouse_uni = np.unique(master_log.mouse_name)  #Create a list of all mouse names: Cl4, Cl5, etc.\n",
    "date_uni = np.unique(master_log.date)  #Create a list of all dates: 05-23-2017, etc.\n",
    "\n",
    "#Sub-DataFrame for individual mouse & Dictionary for session and numbers for specific trial types\n",
    "session = {}\n",
    "for i in range(0, len(mouse_uni)):  #Loop through each mouse\n",
    "    for j in range(0, len(date_uni)):  #For each mouse, loop through all dates\n",
    "        sub = master_log[(master_log.mouse_name == mouse_uni[i][0]) & (master_log.date == date_uni[j][0])]  #Create sub-dataFrame for one mouse and one date \n",
    "        if (sub.empty == False):\n",
    "            #Append a list containing the number of SomHit, SomMiss, etc. for the given mouse on the given date to the dictionary Session\n",
    "            session[str(mouse_uni[i][0])+','+str(date_uni[j][0])] = [len(sub[(sub['Stim/Block/Response'] == trial_types[0]) & (sub.cluster_name == sub.cluster_name[sub.cluster_name.index[0]][0])]),\n",
    "                                                                     len(sub[(sub['Stim/Block/Response'] == trial_types[1]) & (sub.cluster_name == sub.cluster_name[sub.cluster_name.index[0]][0])]),\n",
    "                                                                     len(sub[(sub['Stim/Block/Response'] == trial_types[2]) & (sub.cluster_name == sub.cluster_name[sub.cluster_name.index[0]][0])]),\n",
    "                                                                     len(sub[(sub['Stim/Block/Response'] == trial_types[3]) & (sub.cluster_name == sub.cluster_name[sub.cluster_name.index[0]][0])]),\n",
    "                                                                     len(sub[(sub['Stim/Block/Response'] == trial_types[4]) & (sub.cluster_name == sub.cluster_name[sub.cluster_name.index[0]][0])]),\n",
    "                                                                     len(sub[(sub['Stim/Block/Response'] == trial_types[5]) & (sub.cluster_name == sub.cluster_name[sub.cluster_name.index[0]][0])]),\n",
    "                                                                     len(sub[(sub['Stim/Block/Response'] == trial_types[6]) & (sub.cluster_name == sub.cluster_name[sub.cluster_name.index[0]][0])]),\n",
    "                                                                     len(sub[(sub['Stim/Block/Response'] == trial_types[7]) & (sub.cluster_name == sub.cluster_name[sub.cluster_name.index[0]][0])])]\n"
   ]
  },
  {
   "cell_type": "code",
   "execution_count": 3,
   "metadata": {},
   "outputs": [
    {
     "data": {
      "text/plain": [
       "{'Cl4,05-19-17': [27, 12, 67, 43, 20, 38, 42, 19],\n",
       " 'Cl4,05-23-17': [21, 19, 58, 71, 8, 40, 53, 22],\n",
       " 'Cl4,05-24-17': [17, 11, 32, 36, 25, 56, 55, 13],\n",
       " 'Cl4,05-25-17': [28, 20, 64, 52, 10, 49, 52, 11],\n",
       " 'Cl4,05-26-17': [28, 10, 40, 24, 10, 61, 59, 20],\n",
       " 'Cl4,05-31-17': [31, 5, 58, 35, 26, 63, 49, 9],\n",
       " 'Cl4,06-02-17': [50, 2, 74, 37, 31, 49, 18, 3],\n",
       " 'Cl4,06-03-17': [20, 7, 52, 32, 33, 65, 45, 9],\n",
       " 'Cl4,06-05-17': [18, 17, 70, 67, 21, 44, 28, 4],\n",
       " 'Cl4,06-08-17': [14, 17, 58, 61, 8, 22, 28, 8],\n",
       " 'Cl4,06-09-17': [10, 23, 40, 42, 14, 42, 59, 28],\n",
       " 'Cl5,05-25-17': [15, 24, 60, 56, 13, 45, 45, 13],\n",
       " 'Cl5,05-31-17': [4, 15, 13, 50, 23, 52, 42, 13],\n",
       " 'Cl5,06-02-17': [16, 10, 34, 27, 18, 45, 40, 7],\n",
       " 'Cl5,06-04-17': [20, 27, 49, 62, 9, 57, 69, 19],\n",
       " 'Cl5,06-05-17': [18, 16, 28, 35, 25, 56, 68, 9],\n",
       " 'Cl5,06-09-17': [2, 33, 41, 77, 10, 48, 51, 21],\n",
       " 'Cl5,06-12-17': [4, 14, 14, 36, 13, 50, 70, 18],\n",
       " 'Cl6,10-24-17': [18, 17, 54, 63, 19, 66, 60, 23],\n",
       " 'Cl6,10-25-17': [16, 19, 63, 67, 13, 32, 48, 15],\n",
       " 'Cl6,10-26-17': [28, 10, 79, 59, 12, 49, 53, 10],\n",
       " 'Cl6,10-27-17': [34, 8, 89, 37, 22, 88, 74, 14],\n",
       " 'Cl6,10-29-17': [40, 9, 85, 46, 16, 48, 40, 4],\n",
       " 'Cl6,10-30-17': [20, 6, 73, 59, 20, 72, 66, 10],\n",
       " 'Cl6,10-31-17': [36, 4, 78, 55, 23, 52, 42, 3],\n",
       " 'Cl6,11-01-17': [34, 15, 93, 77, 18, 59, 52, 14],\n",
       " 'Cl6,11-02-17': [37, 9, 59, 45, 30, 89, 65, 14],\n",
       " 'Cl6,11-03-17': [32, 16, 60, 45, 3, 74, 68, 19],\n",
       " 'Cl6,11-06-17': [18, 10, 45, 46, 10, 75, 66, 8],\n",
       " 'Cl6,11-07-17': [31, 7, 73, 46, 16, 93, 83, 12]}"
      ]
     },
     "execution_count": 3,
     "metadata": {},
     "output_type": "execute_result"
    }
   ],
   "source": [
    "session #Test the variable session"
   ]
  },
  {
   "cell_type": "code",
   "execution_count": 12,
   "metadata": {},
   "outputs": [],
   "source": [
    "#Create a dictionary with trial types and ratios\n",
    "session_ratio = {}\n",
    "for i in session:  #Loop through every key (equivalent to each session) in Session, ex. 'Cl4,05-19-17'\n",
    "    if sum(session[i][0:4]) != 0 or sum(session[i][4:8]) != 0:  #Prevent division by zero\n",
    "        #Calculate the fractions of each trial type for visual and somatosensory trials\n",
    "        session_ratio[i] = [session[i][0]/sum(session[i][0:4]),\n",
    "                      session[i][1]/sum(session[i][0:4]),\n",
    "                      session[i][2]/sum(session[i][0:4]),\n",
    "                      session[i][3]/sum(session[i][0:4]),\n",
    "                      session[i][4]/sum(session[i][4:8]),\n",
    "                      session[i][5]/sum(session[i][4:8]),\n",
    "                      session[i][6]/sum(session[i][4:8]),\n",
    "                      session[i][7]/sum(session[i][4:8])]\n",
    "#Create a list that contains the mean ratios of each trial type\n",
    "means = []\n",
    "for count in range(0, len(trial_types)):  #Loop through each trial type\n",
    "    temp = []\n",
    "    for i in session_ratio:  #Loop through each session\n",
    "        temp.append(session_ratio[i][count])  #Append ratios relevant to specific trial type from all sessions to list\n",
    "    means.append(np.mean(temp))  #Calculate mean of each trial type\n",
    "\n",
    "#Create a list that contains the standard errors of each trial type\n",
    "err = []\n",
    "for count in range(0, len(trial_types)):  #Loop through each trial type\n",
    "    temp = []\n",
    "    for i in session_ratio:\n",
    "        temp.append(session_ratio[i][count])  #Append ratios relevant to specific trial type from all sessions to list\n",
    "    err.append(np.std(temp)/np.sqrt(len(temp)))  #Calculate error of each trial type\n",
    "    #NOTE MC 20190813: I added /np.sqrt(len(temp)) because we want to plot the SEM, not the std"
   ]
  },
  {
   "cell_type": "code",
   "execution_count": 11,
   "metadata": {},
   "outputs": [
    {
     "data": {
      "text/plain": [
       "[0.15966386554621848,\n",
       " 0.17886178861788618,\n",
       " 0.087248322147651,\n",
       " 0.09016393442622951,\n",
       " 0.13333333333333333,\n",
       " 0.061224489795918366,\n",
       " 0.0297029702970297,\n",
       " 0.05921052631578947,\n",
       " 0.041237113402061855,\n",
       " 0.12121212121212122,\n",
       " 0.1958041958041958,\n",
       " 0.11206896551724138,\n",
       " 0.1,\n",
       " 0.06363636363636363,\n",
       " 0.12337662337662338,\n",
       " 0.056962025316455694,\n",
       " 0.16153846153846155,\n",
       " 0.11920529801324503,\n",
       " 0.13690476190476192,\n",
       " 0.1388888888888889,\n",
       " 0.08064516129032258,\n",
       " 0.0707070707070707,\n",
       " 0.037037037037037035,\n",
       " 0.05952380952380952,\n",
       " 0.025,\n",
       " 0.0979020979020979,\n",
       " 0.0707070707070707,\n",
       " 0.11585365853658537,\n",
       " 0.050314465408805034,\n",
       " 0.058823529411764705]"
      ]
     },
     "execution_count": 11,
     "metadata": {},
     "output_type": "execute_result"
    }
   ],
   "source": [
    "temp"
   ]
  },
  {
   "cell_type": "code",
   "execution_count": 13,
   "metadata": {},
   "outputs": [
    {
     "data": {
      "image/png": "[encoded data removed]",
      "text/plain": [
       "<Figure size 216x576 with 1 Axes>"
      ]
     },
     "metadata": {
      "needs_background": "light"
     },
     "output_type": "display_data"
    }
   ],
   "source": [
    "#Create bar-plots corresponding to the means of trial types\n",
    "import numpy as np\n",
    "import matplotlib.pyplot as plt\n",
    "from matplotlib import rc\n",
    "import pandas as pd\n",
    "rc('font',weight='bold')\n",
    "bars1 = [means[0], means[4]]\n",
    "err1 = [err[0], err[4]]\n",
    "bars2 = [means[1], means[7]]\n",
    "err2 = [err[1], err[7]]\n",
    "bars3 = [means[2], means[5]]\n",
    "err3 = [err[2], err[5]]\n",
    "bars4 = [means[3], means[6]]\n",
    "err4 = [err[3], err[6]]\n",
    "bars12 = np.add(bars1, bars2).tolist()\n",
    "bars123 = np.add(bars12, bars3).tolist()\n",
    "pos = ['Tactile','Visual']\n",
    "barWidth = 0.5\n",
    "plt.figure(figsize=(3,8))\n",
    "p1 = plt.bar(pos, bars1, width=barWidth, color='darkgrey', yerr=err1, capsize=5, ecolor='black')\n",
    "p2 = plt.bar(pos, bars2, bottom=bars1, width=barWidth, color='mediumseagreen', yerr=err2, capsize=5, ecolor='black')\n",
    "p3 = plt.bar(pos, bars3, bottom=bars12, width=barWidth, color='tomato', yerr=err3, capsize=5)\n",
    "p4 = plt.bar(pos, bars4, bottom=bars123, width=barWidth, color='royalblue', yerr=err4, capsize=5)\n",
    "plt.legend((p1[0],p2[0],p3[0],p4[0]), ('Miss','FA','CR','Hit'),ncol=4,bbox_to_anchor=(0.5,-0.15),loc='center')\n",
    "plt.title('Mouse Behaviors: All Sessions')\n",
    "plt.savefig('Claustrum456_TrialSummary.pdf')"
   ]
  },
  {
   "cell_type": "code",
   "execution_count": 6,
   "metadata": {},
   "outputs": [
    {
     "data": {
      "image/png": "[encoded data removed]",
      "text/plain": [
       "<Figure size 432x288 with 1 Axes>"
      ]
     },
     "metadata": {
      "needs_background": "light"
     },
     "output_type": "display_data"
    }
   ],
   "source": []
  },
  {
   "cell_type": "code",
   "execution_count": null,
   "metadata": {},
   "outputs": [],
   "source": []
  },
  {
   "cell_type": "code",
   "execution_count": null,
   "metadata": {},
   "outputs": [],
   "source": []
  }
 ],
 "metadata": {
  "kernelspec": {
   "display_name": "Python 3",
   "language": "python",
   "name": "python3"
  },
  "language_info": {
   "codemirror_mode": {
    "name": "ipython",
    "version": 3
   },
   "file_extension": ".py",
   "mimetype": "text/x-python",
   "name": "python",
   "nbconvert_exporter": "python",
   "pygments_lexer": "ipython3",
   "version": "3.7.3"
  }
 },
 "nbformat": 4,
 "nbformat_minor": 2
}

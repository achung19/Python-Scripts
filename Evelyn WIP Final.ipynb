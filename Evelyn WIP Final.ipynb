{
 "cells": [
  {
   "cell_type": "code",
   "execution_count": 1,
   "metadata": {},
   "outputs": [],
   "source": [
    "#Import DataFrame master_log\n",
    "import pandas as pd\n",
    "import numpy as np\n",
    "import pickle\n",
    "from pathlib import Path\n",
    "data_folder = Path('Z:\\\\Maxime Chevee\\Maxime 3\\Analysis\\Analysis OptoTagged 20180411')\n",
    "file_to_open = data_folder / \"master_log_lite.pkl\"\n",
    "with open(file_to_open, 'rb') as f:\n",
    "    master_log = pickle.load(f, encoding='latin1')\n",
    "\n",
    "\n",
    "#Final Draft of  Stimulus-aligned Histogram\n"
   ]
  },
  {
   "cell_type": "code",
   "execution_count": 12,
   "metadata": {},
   "outputs": [
    {
     "ename": "NameError",
     "evalue": "name 'master_log' is not defined",
     "output_type": "error",
     "traceback": [
      "\u001b[0;31m---------------------------------------------------------------------------\u001b[0m",
      "\u001b[0;31mNameError\u001b[0m                                 Traceback (most recent call last)",
      "\u001b[0;32m<ipython-input-12-c45fbbaf149b>\u001b[0m in \u001b[0;36m<module>\u001b[0;34m()\u001b[0m\n\u001b[1;32m      1\u001b[0m \u001b[0;31m#Final Draft of Spike Raster Plot\u001b[0m\u001b[0;34m\u001b[0m\u001b[0;34m\u001b[0m\u001b[0m\n\u001b[1;32m      2\u001b[0m \u001b[0;32mimport\u001b[0m \u001b[0mmatplotlib\u001b[0m\u001b[0;34m.\u001b[0m\u001b[0mpyplot\u001b[0m \u001b[0;32mas\u001b[0m \u001b[0mplt\u001b[0m\u001b[0;34m\u001b[0m\u001b[0m\n\u001b[0;32m----> 3\u001b[0;31m \u001b[0mneuron_spike\u001b[0m \u001b[0;34m=\u001b[0m \u001b[0mmaster_log\u001b[0m\u001b[0;34m[\u001b[0m\u001b[0mmaster_log\u001b[0m\u001b[0;34m.\u001b[0m\u001b[0munit_name\u001b[0m \u001b[0;34m==\u001b[0m \u001b[0;34m'Cl4_06-05-17_TT8clst2'\u001b[0m\u001b[0;34m]\u001b[0m\u001b[0;34m.\u001b[0m\u001b[0mspike_times\u001b[0m \u001b[0;34m-\u001b[0m \u001b[0mmaster_log\u001b[0m\u001b[0;34m[\u001b[0m\u001b[0mmaster_log\u001b[0m\u001b[0;34m.\u001b[0m\u001b[0munit_name\u001b[0m \u001b[0;34m==\u001b[0m \u001b[0;34m'Cl4_06-05-17_TT8clst2'\u001b[0m\u001b[0;34m]\u001b[0m\u001b[0;34m.\u001b[0m\u001b[0mstim_onset\u001b[0m\u001b[0;34m\u001b[0m\u001b[0m\n\u001b[0m\u001b[1;32m      4\u001b[0m \u001b[0mneuron_trial_num\u001b[0m \u001b[0;34m=\u001b[0m \u001b[0mmaster_log\u001b[0m\u001b[0;34m[\u001b[0m\u001b[0mmaster_log\u001b[0m\u001b[0;34m.\u001b[0m\u001b[0munit_name\u001b[0m \u001b[0;34m==\u001b[0m \u001b[0;34m'Cl4_06-05-17_TT8clst2'\u001b[0m\u001b[0;34m]\u001b[0m\u001b[0;34m.\u001b[0m\u001b[0mtrial_num\u001b[0m\u001b[0;34m\u001b[0m\u001b[0m\n\u001b[1;32m      5\u001b[0m \u001b[0;32mfor\u001b[0m \u001b[0mi\u001b[0m \u001b[0;32min\u001b[0m \u001b[0mrange\u001b[0m\u001b[0;34m(\u001b[0m\u001b[0;36m0\u001b[0m\u001b[0;34m,\u001b[0m\u001b[0mlen\u001b[0m\u001b[0;34m(\u001b[0m\u001b[0mneuron_spike\u001b[0m\u001b[0;34m)\u001b[0m\u001b[0;34m)\u001b[0m\u001b[0;34m:\u001b[0m\u001b[0;34m\u001b[0m\u001b[0m\n",
      "\u001b[0;31mNameError\u001b[0m: name 'master_log' is not defined"
     ]
    }
   ],
   "source": [
    "#Final Draft of Spike Raster Plot\n",
    "import matplotlib.pyplot as plt\n",
    "neuron_spike = master_log[master_log.unit_name == 'Cl4_06-05-17_TT8clst2'].spike_times - master_log[master_log.unit_name == 'Cl4_06-05-17_TT8clst2'].stim_onset\n",
    "neuron_trial_num = master_log[master_log.unit_name == 'Cl4_06-05-17_TT8clst2'].trial_num\n",
    "for i in range(0,len(neuron_spike)):\n",
    "    x = neuron_spike.index[i]\n",
    "    y = neuron_trial_num[i]\n",
    "    plt.scatter(x, y)\n",
    "plt.show()"
   ]
  },
  {
   "cell_type": "code",
   "execution_count": null,
   "metadata": {},
   "outputs": [],
   "source": []
  },
  {
   "cell_type": "code",
   "execution_count": null,
   "metadata": {},
   "outputs": [],
   "source": []
  }
 ],
 "metadata": {
  "kernelspec": {
   "display_name": "Python 3",
   "language": "python",
   "name": "python3"
  },
  "language_info": {
   "codemirror_mode": {
    "name": "ipython",
    "version": 3
   },
   "file_extension": ".py",
   "mimetype": "text/x-python",
   "name": "python",
   "nbconvert_exporter": "python",
   "pygments_lexer": "ipython3",
   "version": "3.7.0"
  }
 },
 "nbformat": 4,
 "nbformat_minor": 2
}

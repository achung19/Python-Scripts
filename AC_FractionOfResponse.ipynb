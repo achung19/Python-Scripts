{
 "cells": [
  {
   "cell_type": "code",
   "execution_count": 1,
   "metadata": {},
   "outputs": [],
   "source": [
    "# Finalized Rate Plot (Claustrum 6)\n"
   ]
  },
  {
   "cell_type": "code",
   "execution_count": 2,
   "metadata": {},
   "outputs": [
    {
     "data": {
      "text/plain": [
       "['mouse_name',\n",
       " 'date',\n",
       " 'block_type',\n",
       " 'trial_type',\n",
       " 'touch_stimulus',\n",
       " 'vis_stimulus',\n",
       " 'response',\n",
       " 'trial_num',\n",
       " 'stim_onset',\n",
       " 'stim_offset',\n",
       " 'licks_right',\n",
       " 'licks_left',\n",
       " 'spike_times',\n",
       " 'cluster_name',\n",
       " '-0.5to2.0sec_25msecbins_StimAligned',\n",
       " 'Category',\n",
       " '-1to3sec_25msecbins_StimAligned',\n",
       " 'Stim/Block/Response',\n",
       " 'Reward',\n",
       " 'rewarded_licks',\n",
       " 'non_rewarded_licks',\n",
       " 'unit_name',\n",
       " 'LeftFirstLick',\n",
       " 'RightFirstLick',\n",
       " 'FirstLick',\n",
       " '-1to3sec_25msecbins_LickAligned',\n",
       " 'LickALigned_spike_times']"
      ]
     },
     "execution_count": 2,
     "metadata": {},
     "output_type": "execute_result"
    }
   ],
   "source": [
    "import pickle\n",
    "import numpy as np\n",
    "import matplotlib.pyplot as plt\n",
    "import seaborn as sns\n",
    "from matplotlib.patches import Rectangle\n",
    "from pathlib import Path\n",
    "data_folder = Path('Z:\\\\Maxime Chevee\\Maxime 3\\Analysis\\Analysis OptoTagged 20180411')\n",
    "file_to_open = data_folder / \"master_log_lite.pkl\"\n",
    "with open(file_to_open, 'rb') as f:\n",
    "   master_log = pickle.load(f, encoding='latin1')\n",
    "   \n",
    "list(master_log)\n",
    "#master_log_lite=master_log[\n",
    "#['mouse_name',\n",
    "# 'date',\n",
    "# 'block_type',\n",
    "# 'trial_type',\n",
    "# 'touch_stimulus',\n",
    "# 'vis_stimulus',\n",
    "# 'response',\n",
    "# 'trial_num',\n",
    "# 'stim_onset',\n",
    "# 'stim_offset',\n",
    "# 'licks_right',\n",
    "# 'licks_left',\n",
    "# 'spike_times',\n",
    "# 'cluster_name',\n",
    "# '-0.5to2.0sec_25msecbins_StimAligned',\n",
    "# 'Category',\n",
    "# '-1to3sec_25msecbins_StimAligned',\n",
    "#  'Stim/Block/Response',\n",
    "# 'Reward',\n",
    "# 'rewarded_licks',\n",
    "# 'non_rewarded_licks',\n",
    "# 'unit_name',\n",
    "# 'LeftFirstLick',\n",
    "# 'RightFirstLick',\n",
    "# 'FirstLick',\n",
    "# '-1to3sec_25msecbins_LickAligned',\n",
    "#  'LickALigned_spike_times']]"
   ]
  },
  {
   "cell_type": "code",
   "execution_count": 3,
   "metadata": {},
   "outputs": [
    {
     "data": {
      "text/plain": [
       "1       [Whisker]\n",
       "24      [Whisker]\n",
       "47      [Whisker]\n",
       "70      [Whisker]\n",
       "93      [Whisker]\n",
       "116     [Whisker]\n",
       "139     [Whisker]\n",
       "162     [Whisker]\n",
       "185     [Whisker]\n",
       "208     [Whisker]\n",
       "231     [Whisker]\n",
       "254     [Whisker]\n",
       "277     [Whisker]\n",
       "300     [Whisker]\n",
       "323     [Whisker]\n",
       "346     [Whisker]\n",
       "369     [Whisker]\n",
       "392     [Whisker]\n",
       "415     [Whisker]\n",
       "438     [Whisker]\n",
       "461     [Whisker]\n",
       "484     [Whisker]\n",
       "507     [Whisker]\n",
       "530     [Whisker]\n",
       "553     [Whisker]\n",
       "576     [Whisker]\n",
       "599     [Whisker]\n",
       "622     [Whisker]\n",
       "645     [Whisker]\n",
       "668     [Whisker]\n",
       "          ...    \n",
       "6211     [Visual]\n",
       "6234     [Visual]\n",
       "6257     [Visual]\n",
       "6280     [Visual]\n",
       "6303     [Visual]\n",
       "6326     [Visual]\n",
       "6349     [Visual]\n",
       "6372     [Visual]\n",
       "6395     [Visual]\n",
       "6418     [Visual]\n",
       "6441     [Visual]\n",
       "6464     [Visual]\n",
       "6487     [Visual]\n",
       "6510     [Visual]\n",
       "6533     [Visual]\n",
       "6556     [Visual]\n",
       "6579     [Visual]\n",
       "6602     [Visual]\n",
       "6625     [Visual]\n",
       "6648     [Visual]\n",
       "6671     [Visual]\n",
       "6694     [Visual]\n",
       "6717     [Visual]\n",
       "6740     [Visual]\n",
       "6763     [Visual]\n",
       "6786     [Visual]\n",
       "6809     [Visual]\n",
       "6832     [Visual]\n",
       "6855     [Visual]\n",
       "6878     [Visual]\n",
       "Name: block_type, Length: 300, dtype: object"
      ]
     },
     "execution_count": 3,
     "metadata": {},
     "output_type": "execute_result"
    }
   ],
   "source": [
    "unit6_10_26 = master_log[master_log['unit_name']=='Cl6_10-26-17_TT1clst2']\n",
    "\n",
    "unit6_10_26['block_type']"
   ]
  },
  {
   "cell_type": "code",
   "execution_count": 4,
   "metadata": {},
   "outputs": [],
   "source": [
    "def frac_calc(response_type, data_frame):\n",
    "    i = 0.\n",
    "    count = 0.\n",
    "    fracArr = [0.] * (data_frame.shape[0]+1)\n",
    "    while (i < data_frame.shape[0]):\n",
    "        if (data_frame['Stim/Block/Response'].iloc[int(i)] == response_type[0] or data_frame['Stim/Block/Response'].iloc[int(i)] == response_type[1]):\n",
    "            count += 1\n",
    "        i += 1\n",
    "        fracArr[int(i)] = count/i\n",
    "    return fracArr"
   ]
  },
  {
   "cell_type": "code",
   "execution_count": 36,
   "metadata": {},
   "outputs": [
    {
     "data": {
      "image/png": "[encoded data removed]",
      "text/plain": [
       "<Figure size 432x288 with 1 Axes>"
      ]
     },
     "metadata": {
      "needs_background": "light"
     },
     "output_type": "display_data"
    }
   ],
   "source": [
    "# Cl6_10-26-17\n",
    "unit6_10_26 = master_log[master_log['unit_name']=='Cl6_10-29-17_TT1clst2']\n",
    "\n",
    "MissFrac = frac_calc(list({'SomMiss', 'VisMiss'}), unit6_10_26)\n",
    "FAFrac = frac_calc(list({'SomFA', 'VisFA'}), unit6_10_26)\n",
    "CRFrac = frac_calc(list({'SomCR', 'VisCR'}), unit6_10_26)\n",
    "HitFrac = frac_calc(list({'SomHit', 'VisHit'}), unit6_10_26)\n",
    "\n",
    "\n",
    "line1 = [0.] * (unit6_10_26.shape[0]+1)\n",
    "line2 = [0.] * (unit6_10_26.shape[0]+1)\n",
    "line3 = [0.] * (unit6_10_26.shape[0]+1)\n",
    "\n",
    "for i in range(unit6_10_26.shape[0]):\n",
    "    line1[i] = HitFrac[i]\n",
    "    line2[i] = HitFrac[i]+CRFrac[i]\n",
    "    line3[i] = HitFrac[i]+CRFrac[i]+MissFrac[i]\n",
    "\n",
    "x = list(np.arange(unit6_10_26.shape[0]+1, dtype=float))\n",
    "y_base = [0.] * (unit6_10_26.shape[0]+1)\n",
    "y_max = [1.] * (unit6_10_26.shape[0]+1)\n",
    "fig1 = plt.figure()\n",
    "ax1 = fig1.subplots()    \n",
    "ax1.fill_between(x, y_base, line1, color = '#9AD4D6', label = 'hits')\n",
    "ax1.fill_between(x, line1, line2, color = '#0FA3B1', label = 'crs')\n",
    "ax1.fill_between(x, line2, line3, color = '#F9F7F3', label = 'misses')\n",
    "ax1.fill_between(x, line3, y_max, color = '#D2D7DF', label = 'fas')\n",
    "\n",
    "plt.xlim(0,unit6_10_26.shape[0])\n",
    "plt.ylim(0,1)\n",
    "\n",
    "r1 = Rectangle((0, 0), 1, 1, color = '#9AD4D6', ec = 'black')\n",
    "r2 = Rectangle((0, 0), 1, 1, color = '#0FA3B1', ec = 'black')\n",
    "r3 = Rectangle((0, 0), 1, 1, color = '#F9F7F3', ec = 'black')\n",
    "r4 = Rectangle((0, 0), 1, 1, color = '#D2D7DF', ec = 'black')\n",
    "\n",
    "plt.xlabel('Trials')\n",
    "plt.ylabel('Ratio of Response')\n",
    "plt.title('Running Ratio of Responses')\n",
    "\n",
    "legend1 = plt.legend([r1, r2, r3, r4], [\"hits\", \"crs\", \"misses\", \"fas\"], loc='lower right')\n"
   ]
  },
  {
   "cell_type": "code",
   "execution_count": null,
   "metadata": {},
   "outputs": [],
   "source": []
  }
 ],
 "metadata": {
  "kernelspec": {
   "display_name": "Python 3",
   "language": "python",
   "name": "python3"
  },
  "language_info": {
   "codemirror_mode": {
    "name": "ipython",
    "version": 3
   },
   "file_extension": ".py",
   "mimetype": "text/x-python",
   "name": "python",
   "nbconvert_exporter": "python",
   "pygments_lexer": "ipython3",
   "version": "3.7.3"
  }
 },
 "nbformat": 4,
 "nbformat_minor": 2
}

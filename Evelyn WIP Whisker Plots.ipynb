{
 "cells": [
  {
   "cell_type": "code",
   "execution_count": 186,
   "metadata": {},
   "outputs": [
    {
     "data": {
      "text/plain": [
       "[Text(0, 0, 'SomHit'),\n",
       " Text(0, 0, 'VisHit'),\n",
       " Text(0, 0, 'SomFA'),\n",
       " Text(0, 0, 'VisFA')]"
      ]
     },
     "execution_count": 186,
     "metadata": {},
     "output_type": "execute_result"
    },
    {
     "data": {
      "image/png": "[encoded data removed]",
      "text/plain": [
       "<Figure size 648x432 with 1 Axes>"
      ]
     },
     "metadata": {
      "needs_background": "light"
     },
     "output_type": "display_data"
    }
   ],
   "source": [
    "#Import master_log\n",
    "import pickle\n",
    "from pathlib import Path\n",
    "data_folder = Path('Z:\\\\Maxime Chevee\\Maxime 3\\Analysis\\Analysis OptoTagged 20180411')\n",
    "file_to_open = data_folder / \"master_log_lite.pkl\"\n",
    "with open(file_to_open, 'rb') as f:\n",
    "   master_log = pickle.load(f, encoding='latin1')\n",
    "\n",
    "#Create Reaction_time Whisker Plots\n",
    "#Categories: SomHit, SomFA, VisHit, VisFA\n",
    "#Data from stim_onset & FirstLick, combine sessions\n",
    "#Category filter (temp): Non-claustrum (Code: sub = ... & (master_log.Category == 'NOTClaustrum')])\n",
    "\n",
    "#Create a dictionary: session corresponding to trial types - SomHit, SomFFA, VisHit, VisFA\n",
    "import numpy as np\n",
    "import pandas as pd\n",
    "N_trial_types = ['SomHit','SomFA','VisHit','VisFA']\n",
    "mouse_uni = np.unique(master_log.mouse_name)\n",
    "date_uni = np.unique(master_log.date)\n",
    "\n",
    "#Sub-DataFrame for individual mouse & Dictionary for session and reaction times for needed trial types\n",
    "session_sub = {}\n",
    "\n",
    "for i in range(0, len(mouse_uni)):\n",
    "    for j in range(0, len(date_uni)):\n",
    "        sub = master_log[(master_log.mouse_name == mouse_uni[i][0]) & (master_log.date == date_uni[j][0]) & (master_log.Category == 'NOTClaustrum')]\n",
    "        if (sub.empty == False):\n",
    "            session_sub[str(mouse_uni[i][0])+','+str(date_uni[j][0])] = [sub[(sub['Stim/Block/Response'] == N_trial_types[0]) & (sub.cluster_name == sub.cluster_name[sub.cluster_name.index[0]][0])].FirstLick,\n",
    "                                                                         sub[(sub['Stim/Block/Response'] == N_trial_types[1]) & (sub.cluster_name == sub.cluster_name[sub.cluster_name.index[0]][0])].FirstLick,\n",
    "                                                                         sub[(sub['Stim/Block/Response'] == N_trial_types[2]) & (sub.cluster_name == sub.cluster_name[sub.cluster_name.index[0]][0])].FirstLick,\n",
    "                                                                         sub[(sub['Stim/Block/Response'] == N_trial_types[3]) & (sub.cluster_name == sub.cluster_name[sub.cluster_name.index[0]][0])].FirstLick]\n",
    "#Individual lists of FirstLick values for each needed trial types\n",
    "SomHit = []\n",
    "SomFA = []\n",
    "VisHit = []\n",
    "VisFA = []\n",
    "len_session_sub = len(session_sub)\n",
    "for i in session_sub:\n",
    "    L1 = session_sub[i][0]\n",
    "    for j in L1:\n",
    "        SomHit.append(j)\n",
    "    L2 = session_sub[i][1]\n",
    "    for j in L2:\n",
    "        SomFA.append(j)\n",
    "    L3 = session_sub[i][2]\n",
    "    for j in L3:\n",
    "        VisHit.append(j)\n",
    "    L4 = session_sub[i][3]\n",
    "    for j in L4:\n",
    "        VisFA.append(j)\n",
    "\n",
    "#Create boxplots\n",
    "import numpy as np\n",
    "import matplotlib.pyplot as plt\n",
    "fig = plt.figure(1, figsize=(9,6))\n",
    "ax = fig.add_subplot(111)\n",
    "bp = ax.boxplot([SomHit, VisHit, SomFA, VisFA], vert=False)\n",
    "ax.set_yticklabels(['SomHit','VisHit','SomFA','VisFA'])"
   ]
  },
  {
   "cell_type": "code",
   "execution_count": null,
   "metadata": {},
   "outputs": [],
   "source": []
  }
 ],
 "metadata": {
  "kernelspec": {
   "display_name": "Python 3",
   "language": "python",
   "name": "python3"
  },
  "language_info": {
   "codemirror_mode": {
    "name": "ipython",
    "version": 3
   },
   "file_extension": ".py",
   "mimetype": "text/x-python",
   "name": "python",
   "nbconvert_exporter": "python",
   "pygments_lexer": "ipython3",
   "version": "3.7.3"
  }
 },
 "nbformat": 4,
 "nbformat_minor": 2
}
